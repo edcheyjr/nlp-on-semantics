{
 "cells": [
  {
   "cell_type": "code",
   "execution_count": null,
   "id": "b0d3d3ef",
   "metadata": {},
   "outputs": [],
   "source": []
  },
  {
   "cell_type": "markdown",
   "id": "305cdba5",
   "metadata": {},
   "source": [
    "## ANSWERS FOR QUESTIONS\n",
    "`ANSWERS:`\n",
    "\n",
    "### What do you think might be a shortcoming of the previous representation of utterance features? \n",
    "- If the records contain new words, then size of the matrix would continue to increase which is not efficient.\n",
    "- There are many zeros in the vector thus resulting in a very sparse matrix which needs to be avoided.\n",
    "- There is not information on grammer from the sentences or ordering of the words in the text hence the text cannot be reconstructed without loosing information.\n",
    "\n",
    "\n",
    "### SGDClassifier Results.\n",
    "- On validation, `JOY` untterance was the one with lowest prediction score althought it was just less 1% from others.\n",
    "- The average accuracy for the model was 60% which means, for every text that is predicted, it is 60% accurate that it is in the correct label of utterance.\n",
    "- Most of the `JOYFUL` utterance were being predicted as `JEALOUS` with 70 values done this.\n",
    "- Below are results achieved by SGDclassifier model\n",
    "\n",
    "```\n",
    "    Accuracy :   59.65250965250966%\n",
    "    F1 Score :   59.553625217041805%\n",
    "    Recall Score :   59.65250965250966%\n",
    "    Precision Score :   59.741581794172774%\n",
    "```\n",
    "\n",
    "\n",
    "### MLP with Word2Vec results.\n",
    "- Below is the results achieved by MLP model.\n",
    "- gensim module was used to create word2vec model which was used in representation of text with similarities.\n",
    "- The model did not have good accuracy,\n",
    "\n",
    "```\n",
    "        Accuracy :   46.46074646074646%\n",
    "        F1 Score :   46.445182667051874%\n",
    "        Recall Score :   46.46074646074646%\n",
    "        Precision Score :   46.64679340139845%\n",
    "```\n",
    "\n",
    "\n",
    "### Explain how you use the BERT output. Specifically, which token(s) output you use?\n",
    "\n",
    "- Bert is trained using Masked Language Model (MLM) and Next Sentence Prediction task (NSP).\n",
    "- It recieves input as embedding i.e attention masks and sentences input ids.\n",
    "- In each word, the first token is a special token called CLS and sentences are separed by also a special token called SEP\n",
    "- The model's output are embedding for the hidden state. These output are the one to be feeded to layer that can be used for classification.\n",
    "- In our task, we were only interested on these output (Hidden State) which are associated with initial token CLS since it captures the meaning of the entire senteses more than other hence these hidden state can be used for classification with other models as input.\n",
    "- After training MLP model with features extracted using BERT model and tokenizers, the results had improved a bit as follows;\n",
    "   ```\n",
    "        Accuracy :   60.5%\n",
    "        F1 Score :   60.24614807085745%\n",
    "        Recall Score :   60.5%\n",
    "        Precision Score :   60.650467636088266%\n",
    "   ```"
   ]
  },
  {
   "cell_type": "code",
   "execution_count": 1,
   "id": "4201f695",
   "metadata": {
    "execution": {
     "iopub.execute_input": "2022-11-07T20:18:01.412068Z",
     "iopub.status.busy": "2022-11-07T20:18:01.411664Z",
     "iopub.status.idle": "2022-11-07T20:18:02.106136Z",
     "shell.execute_reply": "2022-11-07T20:18:02.105054Z",
     "shell.execute_reply.started": "2022-11-07T20:18:01.411989Z"
    }
   },
   "outputs": [],
   "source": [
    "# Importing the required packages\n",
    "\n",
    "import os\n",
    "import re\n",
    "\n",
    "import pandas as pd\n",
    "import numpy as np\n",
    "\n",
    "import gensim\n",
    "import nltk\n",
    "# nltk.download('stopwords')\n",
    "from nltk.corpus import stopwords \n",
    "import nltk\n",
    "# nltk.download('punkt')\n",
    "\n",
    "from sklearn.feature_extraction.text import CountVectorizer\n",
    "from sklearn.linear_model import SGDClassifier\n",
    "from sklearn.feature_extraction.text import TfidfTransformer\n",
    "from sklearn.neural_network import MLPClassifier\n",
    "from sklearn.pipeline import Pipeline\n",
    "from sklearn.feature_extraction.text import TfidfVectorizer\n",
    "\n",
    "from sklearn.metrics import f1_score\n",
    "from sklearn.metrics import confusion_matrix\n",
    "\n",
    "\n",
    "from itertools import compress\n",
    "import collections\n",
    "\n",
    "\n",
    "import warnings\n",
    "warnings.filterwarnings(\"ignore\")"
   ]
  },
  {
   "cell_type": "code",
   "execution_count": 2,
   "id": "0f9a2703",
   "metadata": {
    "execution": {
     "iopub.execute_input": "2022-11-07T20:18:02.108583Z",
     "iopub.status.busy": "2022-11-07T20:18:02.108104Z",
     "iopub.status.idle": "2022-11-07T20:18:02.120536Z",
     "shell.execute_reply": "2022-11-07T20:18:02.118970Z",
     "shell.execute_reply.started": "2022-11-07T20:18:02.108546Z"
    }
   },
   "outputs": [
    {
     "data": {
      "text/plain": [
       "['valid.csv', 'train.csv', 'test.csv']"
      ]
     },
     "execution_count": 2,
     "metadata": {},
     "output_type": "execute_result"
    }
   ],
   "source": [
    "import os\n",
    "# first step is to preprocess the data\n",
    "os.listdir(\"../nlpdata/\")\n"
   ]
  },
  {
   "cell_type": "code",
   "execution_count": 3,
   "id": "5b4b358f",
   "metadata": {
    "execution": {
     "iopub.execute_input": "2022-11-07T20:18:02.122542Z",
     "iopub.status.busy": "2022-11-07T20:18:02.122250Z",
     "iopub.status.idle": "2022-11-07T20:18:02.840820Z",
     "shell.execute_reply": "2022-11-07T20:18:02.839804Z",
     "shell.execute_reply.started": "2022-11-07T20:18:02.122491Z"
    }
   },
   "outputs": [],
   "source": [
    "# Importing the datasets\n",
    "\n",
    "train = pd.read_csv(\"./nlpdata/train.csv\", usecols=[\"utterance\", 'context'])\n",
    "test = pd.read_csv(\"./nlpdata/test.csv\", usecols=[\"utterance\", 'context'])\n",
    "valid = pd.read_csv(\"./nlpdata/valid.csv\", usecols=[\"utterance\",'context'])"
   ]
  },
  {
   "cell_type": "code",
   "execution_count": 4,
   "id": "9b666839",
   "metadata": {
    "execution": {
     "iopub.execute_input": "2022-11-07T20:18:02.848954Z",
     "iopub.status.busy": "2022-11-07T20:18:02.846726Z",
     "iopub.status.idle": "2022-11-07T20:18:02.859262Z",
     "shell.execute_reply": "2022-11-07T20:18:02.857335Z",
     "shell.execute_reply.started": "2022-11-07T20:18:02.848916Z"
    }
   },
   "outputs": [
    {
     "data": {
      "text/plain": [
       "((76673, 2), (10943, 2), (12030, 2))"
      ]
     },
     "execution_count": 4,
     "metadata": {},
     "output_type": "execute_result"
    }
   ],
   "source": [
    "# check the shape\n",
    "train.shape, test.shape, valid.shape"
   ]
  },
  {
   "cell_type": "code",
   "execution_count": 5,
   "id": "3fe43d98",
   "metadata": {
    "execution": {
     "iopub.execute_input": "2022-11-07T20:18:02.861254Z",
     "iopub.status.busy": "2022-11-07T20:18:02.860645Z",
     "iopub.status.idle": "2022-11-07T20:18:02.919191Z",
     "shell.execute_reply": "2022-11-07T20:18:02.918331Z",
     "shell.execute_reply.started": "2022-11-07T20:18:02.861217Z"
    }
   },
   "outputs": [
    {
     "data": {
      "text/plain": [
       "510"
      ]
     },
     "execution_count": 5,
     "metadata": {},
     "output_type": "execute_result"
    }
   ],
   "source": [
    "train.duplicated().sum()"
   ]
  },
  {
   "cell_type": "code",
   "execution_count": 6,
   "id": "568ee912",
   "metadata": {
    "execution": {
     "iopub.execute_input": "2022-11-07T20:18:02.921800Z",
     "iopub.status.busy": "2022-11-07T20:18:02.920971Z",
     "iopub.status.idle": "2022-11-07T20:18:02.939850Z",
     "shell.execute_reply": "2022-11-07T20:18:02.937824Z",
     "shell.execute_reply.started": "2022-11-07T20:18:02.921730Z"
    }
   },
   "outputs": [
    {
     "data": {
      "text/plain": [
       "13"
      ]
     },
     "execution_count": 6,
     "metadata": {},
     "output_type": "execute_result"
    }
   ],
   "source": [
    "test.duplicated().sum()"
   ]
  },
  {
   "cell_type": "code",
   "execution_count": 7,
   "id": "e96ac393",
   "metadata": {
    "execution": {
     "iopub.execute_input": "2022-11-07T20:18:02.941482Z",
     "iopub.status.busy": "2022-11-07T20:18:02.940957Z",
     "iopub.status.idle": "2022-11-07T20:18:02.961086Z",
     "shell.execute_reply": "2022-11-07T20:18:02.960285Z",
     "shell.execute_reply.started": "2022-11-07T20:18:02.941446Z"
    }
   },
   "outputs": [
    {
     "data": {
      "text/plain": [
       "16"
      ]
     },
     "execution_count": 7,
     "metadata": {},
     "output_type": "execute_result"
    }
   ],
   "source": [
    "valid.duplicated().sum()"
   ]
  },
  {
   "cell_type": "code",
   "execution_count": 8,
   "id": "073027fe",
   "metadata": {
    "execution": {
     "iopub.execute_input": "2022-11-07T20:18:02.962956Z",
     "iopub.status.busy": "2022-11-07T20:18:02.962380Z",
     "iopub.status.idle": "2022-11-07T20:18:02.983274Z",
     "shell.execute_reply": "2022-11-07T20:18:02.982289Z",
     "shell.execute_reply.started": "2022-11-07T20:18:02.962921Z"
    }
   },
   "outputs": [
    {
     "data": {
      "text/html": [
       "<div>\n",
       "<style scoped>\n",
       "    .dataframe tbody tr th:only-of-type {\n",
       "        vertical-align: middle;\n",
       "    }\n",
       "\n",
       "    .dataframe tbody tr th {\n",
       "        vertical-align: top;\n",
       "    }\n",
       "\n",
       "    .dataframe thead th {\n",
       "        text-align: right;\n",
       "    }\n",
       "</style>\n",
       "<table border=\"1\" class=\"dataframe\">\n",
       "  <thead>\n",
       "    <tr style=\"text-align: right;\">\n",
       "      <th></th>\n",
       "      <th>context</th>\n",
       "      <th>utterance</th>\n",
       "    </tr>\n",
       "  </thead>\n",
       "  <tbody>\n",
       "    <tr>\n",
       "      <th>0</th>\n",
       "      <td>sentimental</td>\n",
       "      <td>I remember going to see the fireworks with my ...</td>\n",
       "    </tr>\n",
       "    <tr>\n",
       "      <th>1</th>\n",
       "      <td>sentimental</td>\n",
       "      <td>Was this a friend you were in love with_comma_...</td>\n",
       "    </tr>\n",
       "    <tr>\n",
       "      <th>2</th>\n",
       "      <td>sentimental</td>\n",
       "      <td>This was a best friend. I miss her.</td>\n",
       "    </tr>\n",
       "    <tr>\n",
       "      <th>3</th>\n",
       "      <td>sentimental</td>\n",
       "      <td>Where has she gone?</td>\n",
       "    </tr>\n",
       "    <tr>\n",
       "      <th>4</th>\n",
       "      <td>sentimental</td>\n",
       "      <td>We no longer talk.</td>\n",
       "    </tr>\n",
       "  </tbody>\n",
       "</table>\n",
       "</div>"
      ],
      "text/plain": [
       "       context                                          utterance\n",
       "0  sentimental  I remember going to see the fireworks with my ...\n",
       "1  sentimental  Was this a friend you were in love with_comma_...\n",
       "2  sentimental                This was a best friend. I miss her.\n",
       "3  sentimental                                Where has she gone?\n",
       "4  sentimental                                 We no longer talk."
      ]
     },
     "execution_count": 8,
     "metadata": {},
     "output_type": "execute_result"
    }
   ],
   "source": [
    "train.head()"
   ]
  },
  {
   "cell_type": "markdown",
   "id": "b22ee2f6",
   "metadata": {},
   "source": [
    "### Filter Only the required categories.\n",
    "- series.isin(list_ method is going to be used to filter out the rows that are required.\n",
    "- After filtering, the record are resampled in order to be shuffled and the index is also reset.\n"
   ]
  },
  {
   "cell_type": "code",
   "execution_count": 9,
   "id": "0bd060f9",
   "metadata": {
    "execution": {
     "iopub.execute_input": "2022-11-07T20:18:02.991762Z",
     "iopub.status.busy": "2022-11-07T20:18:02.991318Z",
     "iopub.status.idle": "2022-11-07T20:18:03.012218Z",
     "shell.execute_reply": "2022-11-07T20:18:03.011357Z",
     "shell.execute_reply.started": "2022-11-07T20:18:02.991725Z"
    }
   },
   "outputs": [],
   "source": [
    "\n",
    "# select \"utterance\" and \"context\" as your X and y\n",
    "# only select {'sad', 'jealous', 'joyful', 'terrified'} categories\n",
    "#\n",
    "\n",
    "# use isin  method to filter out the required records\n",
    "train = train[train['context'].isin(['sad', 'jealous', 'joyful', 'terrified'])].sample(frac=1).reset_index(drop=True)\n",
    "test = test[test['context'].isin(['sad', 'jealous', 'joyful', 'terrified'])].sample(frac=1).reset_index(drop=True)\n",
    "valid = valid[valid['context'].isin(['sad', 'jealous', 'joyful', 'terrified'])].sample(frac=1).reset_index(drop=True)"
   ]
  },
  {
   "cell_type": "code",
   "execution_count": 10,
   "id": "39a4c46d",
   "metadata": {
    "execution": {
     "iopub.execute_input": "2022-11-07T20:18:03.020069Z",
     "iopub.status.busy": "2022-11-07T20:18:03.017948Z",
     "iopub.status.idle": "2022-11-07T20:18:03.033604Z",
     "shell.execute_reply": "2022-11-07T20:18:03.032197Z",
     "shell.execute_reply.started": "2022-11-07T20:18:03.019990Z"
    }
   },
   "outputs": [
    {
     "data": {
      "text/plain": [
       "((9797, 2), (1377, 2), (1554, 2))"
      ]
     },
     "execution_count": 10,
     "metadata": {},
     "output_type": "execute_result"
    }
   ],
   "source": [
    "# recheck the shape\n",
    "train.shape, test.shape, valid.shape"
   ]
  },
  {
   "cell_type": "markdown",
   "id": "68ce6225",
   "metadata": {},
   "source": [
    "### Columns Renaming.\n",
    "- The columns are renamed for easier accessibility i,e utterance is renamed to text while context to label"
   ]
  },
  {
   "cell_type": "code",
   "execution_count": 11,
   "id": "6245aa9f",
   "metadata": {
    "execution": {
     "iopub.execute_input": "2022-11-07T20:18:03.035330Z",
     "iopub.status.busy": "2022-11-07T20:18:03.034811Z",
     "iopub.status.idle": "2022-11-07T20:18:03.044698Z",
     "shell.execute_reply": "2022-11-07T20:18:03.043769Z",
     "shell.execute_reply.started": "2022-11-07T20:18:03.035294Z"
    }
   },
   "outputs": [],
   "source": [
    "# rename the columns i.e label from context and text from utterance\n",
    "\n",
    "train = train.rename({\"context\":\"label\", \"utterance\":\"text\"}, axis=1)\n",
    "test = test.rename({\"context\":\"label\", \"utterance\":\"text\"}, axis=1)\n",
    "valid = valid.rename({\"context\":\"label\", \"utterance\":\"text\"}, axis=1)"
   ]
  },
  {
   "cell_type": "markdown",
   "id": "3c841a36",
   "metadata": {},
   "source": [
    "### Check Distribution of the Labels in each Data Group.\n"
   ]
  },
  {
   "cell_type": "code",
   "execution_count": 12,
   "id": "d3ec8375",
   "metadata": {
    "execution": {
     "iopub.execute_input": "2022-11-07T20:18:03.048002Z",
     "iopub.status.busy": "2022-11-07T20:18:03.046844Z",
     "iopub.status.idle": "2022-11-07T20:18:03.147424Z",
     "shell.execute_reply": "2022-11-07T20:18:03.146408Z",
     "shell.execute_reply.started": "2022-11-07T20:18:03.047965Z"
    }
   },
   "outputs": [],
   "source": [
    "# check distribution of labels\n",
    "import seaborn as sns\n",
    "import matplotlib.pyplot as plt"
   ]
  },
  {
   "cell_type": "code",
   "execution_count": 13,
   "id": "c10bc6b7",
   "metadata": {
    "execution": {
     "iopub.execute_input": "2022-11-07T20:18:03.151268Z",
     "iopub.status.busy": "2022-11-07T20:18:03.150642Z",
     "iopub.status.idle": "2022-11-07T20:18:03.160739Z",
     "shell.execute_reply": "2022-11-07T20:18:03.159704Z",
     "shell.execute_reply.started": "2022-11-07T20:18:03.151230Z"
    }
   },
   "outputs": [
    {
     "data": {
      "text/plain": [
       "sad          0.268858\n",
       "terrified    0.253955\n",
       "joyful       0.239461\n",
       "jealous      0.237726\n",
       "Name: label, dtype: float64"
      ]
     },
     "execution_count": 13,
     "metadata": {},
     "output_type": "execute_result"
    }
   ],
   "source": [
    "train.label.value_counts(normalize=True)"
   ]
  },
  {
   "cell_type": "code",
   "execution_count": 14,
   "id": "0a721117",
   "metadata": {
    "execution": {
     "iopub.execute_input": "2022-11-07T20:18:03.163128Z",
     "iopub.status.busy": "2022-11-07T20:18:03.162424Z",
     "iopub.status.idle": "2022-11-07T20:18:03.362185Z",
     "shell.execute_reply": "2022-11-07T20:18:03.361304Z",
     "shell.execute_reply.started": "2022-11-07T20:18:03.163093Z"
    }
   },
   "outputs": [
    {
     "data": {
      "text/plain": [
       "<AxesSubplot:xlabel='label', ylabel='count'>"
      ]
     },
     "execution_count": 14,
     "metadata": {},
     "output_type": "execute_result"
    },
    {
     "data": {
      "image/png": "[encoded data removed]",
      "text/plain": [
       "<Figure size 432x288 with 1 Axes>"
      ]
     },
     "metadata": {
      "needs_background": "light"
     },
     "output_type": "display_data"
    }
   ],
   "source": [
    "sns.countplot(train['label'])"
   ]
  },
  {
   "cell_type": "code",
   "execution_count": 15,
   "id": "c4072d98",
   "metadata": {
    "execution": {
     "iopub.execute_input": "2022-11-07T20:18:03.364116Z",
     "iopub.status.busy": "2022-11-07T20:18:03.363771Z",
     "iopub.status.idle": "2022-11-07T20:18:03.373650Z",
     "shell.execute_reply": "2022-11-07T20:18:03.372576Z",
     "shell.execute_reply.started": "2022-11-07T20:18:03.364081Z"
    }
   },
   "outputs": [
    {
     "data": {
      "text/plain": [
       "sad          0.271605\n",
       "joyful       0.257807\n",
       "jealous      0.254176\n",
       "terrified    0.216412\n",
       "Name: label, dtype: float64"
      ]
     },
     "execution_count": 15,
     "metadata": {},
     "output_type": "execute_result"
    }
   ],
   "source": [
    "test.label.value_counts(normalize=True)"
   ]
  },
  {
   "cell_type": "code",
   "execution_count": 16,
   "id": "aafee90a",
   "metadata": {
    "execution": {
     "iopub.execute_input": "2022-11-07T20:18:03.377625Z",
     "iopub.status.busy": "2022-11-07T20:18:03.376657Z",
     "iopub.status.idle": "2022-11-07T20:18:03.602832Z",
     "shell.execute_reply": "2022-11-07T20:18:03.601890Z",
     "shell.execute_reply.started": "2022-11-07T20:18:03.377589Z"
    }
   },
   "outputs": [
    {
     "data": {
      "text/plain": [
       "<AxesSubplot:xlabel='label', ylabel='count'>"
      ]
     },
     "execution_count": 16,
     "metadata": {},
     "output_type": "execute_result"
    },
    {
     "data": {
      "image/png": "[encoded data removed]",
      "text/plain": [
       "<Figure size 432x288 with 1 Axes>"
      ]
     },
     "metadata": {
      "needs_background": "light"
     },
     "output_type": "display_data"
    }
   ],
   "source": [
    "sns.countplot(test['label'])"
   ]
  },
  {
   "cell_type": "code",
   "execution_count": 17,
   "id": "5157336a",
   "metadata": {
    "execution": {
     "iopub.execute_input": "2022-11-07T20:18:03.609277Z",
     "iopub.status.busy": "2022-11-07T20:18:03.607158Z",
     "iopub.status.idle": "2022-11-07T20:18:03.626555Z",
     "shell.execute_reply": "2022-11-07T20:18:03.625155Z",
     "shell.execute_reply.started": "2022-11-07T20:18:03.609239Z"
    }
   },
   "outputs": [
    {
     "data": {
      "text/plain": [
       "sad          0.281853\n",
       "jealous      0.248391\n",
       "joyful       0.237452\n",
       "terrified    0.232304\n",
       "Name: label, dtype: float64"
      ]
     },
     "execution_count": 17,
     "metadata": {},
     "output_type": "execute_result"
    }
   ],
   "source": [
    "valid.label.value_counts(normalize=True)"
   ]
  },
  {
   "cell_type": "code",
   "execution_count": 18,
   "id": "184780ac",
   "metadata": {
    "execution": {
     "iopub.execute_input": "2022-11-07T20:18:03.629133Z",
     "iopub.status.busy": "2022-11-07T20:18:03.628472Z",
     "iopub.status.idle": "2022-11-07T20:18:03.801339Z",
     "shell.execute_reply": "2022-11-07T20:18:03.800405Z",
     "shell.execute_reply.started": "2022-11-07T20:18:03.629081Z"
    }
   },
   "outputs": [
    {
     "data": {
      "text/plain": [
       "<AxesSubplot:xlabel='label', ylabel='count'>"
      ]
     },
     "execution_count": 18,
     "metadata": {},
     "output_type": "execute_result"
    },
    {
     "data": {
      "image/png": "[encoded data removed]",
      "text/plain": [
       "<Figure size 432x288 with 1 Axes>"
      ]
     },
     "metadata": {
      "needs_background": "light"
     },
     "output_type": "display_data"
    }
   ],
   "source": [
    "sns.countplot(valid['label'])"
   ]
  },
  {
   "cell_type": "markdown",
   "id": "f8aa7e2f",
   "metadata": {},
   "source": [
    "- The distibution of labels in all data set is almost similar. There is not that much imbalance in the dataset"
   ]
  },
  {
   "cell_type": "code",
   "execution_count": 19,
   "id": "235fa5cc",
   "metadata": {
    "execution": {
     "iopub.execute_input": "2022-11-07T20:18:03.804759Z",
     "iopub.status.busy": "2022-11-07T20:18:03.804275Z",
     "iopub.status.idle": "2022-11-07T20:18:03.850305Z",
     "shell.execute_reply": "2022-11-07T20:18:03.849307Z",
     "shell.execute_reply.started": "2022-11-07T20:18:03.804729Z"
    }
   },
   "outputs": [
    {
     "data": {
      "text/plain": [
       "(18.576400939062978, 16.267247639796658, 14.393822393822393)"
      ]
     },
     "execution_count": 19,
     "metadata": {},
     "output_type": "execute_result"
    }
   ],
   "source": [
    "# average number of words per record\n",
    "train['text'].str.split(\" \").apply(len).mean(), test['text'].str.split(\" \").apply(len).mean(), valid['text'].str.split(\" \").apply(len).mean()"
   ]
  },
  {
   "cell_type": "markdown",
   "id": "c9950403",
   "metadata": {},
   "source": [
    "### Encode the Labels.\n",
    "- Models can't understand string labels, these labels are going to be assigned a code each. Label Encoder function will be used to automatically encode the string labels to numerical."
   ]
  },
  {
   "cell_type": "code",
   "execution_count": 20,
   "id": "b599ec27",
   "metadata": {
    "execution": {
     "iopub.execute_input": "2022-11-07T20:18:03.853694Z",
     "iopub.status.busy": "2022-11-07T20:18:03.852784Z",
     "iopub.status.idle": "2022-11-07T20:18:03.863130Z",
     "shell.execute_reply": "2022-11-07T20:18:03.862155Z",
     "shell.execute_reply.started": "2022-11-07T20:18:03.853597Z"
    }
   },
   "outputs": [
    {
     "data": {
      "text/plain": [
       "LabelEncoder()"
      ]
     },
     "execution_count": 20,
     "metadata": {},
     "output_type": "execute_result"
    }
   ],
   "source": [
    "# get therse labels into a numerical format\n",
    "from sklearn.preprocessing import LabelEncoder\n",
    "\n",
    "lbl_enc = LabelEncoder()\n",
    "\n",
    "lbl_enc.fit(train['label'])"
   ]
  },
  {
   "cell_type": "code",
   "execution_count": 21,
   "id": "cbb0ef0c",
   "metadata": {
    "execution": {
     "iopub.execute_input": "2022-11-07T20:18:03.865200Z",
     "iopub.status.busy": "2022-11-07T20:18:03.864129Z",
     "iopub.status.idle": "2022-11-07T20:18:03.876397Z",
     "shell.execute_reply": "2022-11-07T20:18:03.875440Z",
     "shell.execute_reply.started": "2022-11-07T20:18:03.865172Z"
    }
   },
   "outputs": [],
   "source": [
    "Ytrain= lbl_enc.transform(train['label'])\n",
    "Ytest= lbl_enc.transform(test['label'])\n",
    "Yvalid= lbl_enc.transform(valid['label'])"
   ]
  },
  {
   "cell_type": "markdown",
   "id": "43e0030f",
   "metadata": {},
   "source": [
    "#### 2. sparse bag-of-words (BOW) representation.\n",
    "\n",
    "- The CountVectorizer function will be used and a attribute passed to it to return binary values instead of counts"
   ]
  },
  {
   "cell_type": "markdown",
   "id": "f99f0600",
   "metadata": {},
   "source": [
    "- In this place, the text will first be cleaned by removing punctuations or special characters.\n",
    "- The function below does the work of removing special characters"
   ]
  },
  {
   "cell_type": "code",
   "execution_count": 22,
   "id": "4a155c30",
   "metadata": {
    "execution": {
     "iopub.execute_input": "2022-11-07T20:18:03.879224Z",
     "iopub.status.busy": "2022-11-07T20:18:03.878256Z",
     "iopub.status.idle": "2022-11-07T20:18:03.886437Z",
     "shell.execute_reply": "2022-11-07T20:18:03.885532Z",
     "shell.execute_reply.started": "2022-11-07T20:18:03.879187Z"
    }
   },
   "outputs": [],
   "source": [
    "# this function will be used to clean the text column above\n",
    "#it also clean by removing some unwanted characters.\n",
    "def text_processing(text):\n",
    "    \"\"\"\n",
    "    It also removes punctuations\n",
    "    and lastly it lemmatixe the word into its root form\n",
    "    \"\"\"\n",
    "    \n",
    "    #remove new lines escape characters\n",
    "    text = re.sub(r\"\\n\", \"\", text)\n",
    "    # convert to lowercase\n",
    "    text = text.lower()\n",
    "    # remove non letters\n",
    "    text = re.sub(r\"[^a-zA-Z0-9\\s]\", \"\", text)\n",
    "    \n",
    "    # tokenize the text into words\n",
    "    words = text.split()\n",
    "    # return a new sentense with the applied functions\n",
    "    return \" \".join(words)"
   ]
  },
  {
   "cell_type": "code",
   "execution_count": 23,
   "id": "c18456bd",
   "metadata": {
    "execution": {
     "iopub.execute_input": "2022-11-07T20:18:03.890659Z",
     "iopub.status.busy": "2022-11-07T20:18:03.890386Z",
     "iopub.status.idle": "2022-11-07T20:18:03.978472Z",
     "shell.execute_reply": "2022-11-07T20:18:03.977441Z",
     "shell.execute_reply.started": "2022-11-07T20:18:03.890634Z"
    }
   },
   "outputs": [
    {
     "data": {
      "text/plain": [
       "0       the summer has been rough though they fight a lot\n",
       "1                    my god i would be too pop the bubbly\n",
       "2          how many counties are you planning on vistiing\n",
       "3       an infiniti my old volvo is the worst on the b...\n",
       "4             i got robbedcomma while i was alone at home\n",
       "                              ...                        \n",
       "9792                    that is very smart to think about\n",
       "9793     i really like summer time and going to the beach\n",
       "9794    do you have fond memories of school or were yo...\n",
       "9795                              does ghost really exist\n",
       "9796    it wascomma actually im from louisiana and was...\n",
       "Name: text, Length: 9797, dtype: object"
      ]
     },
     "execution_count": 23,
     "metadata": {},
     "output_type": "execute_result"
    }
   ],
   "source": [
    "# run the function to process all text for train, text and valid dataset\n",
    "Xtrain =train['text'].apply(text_processing)\n",
    "Xtest =test['text'].apply(text_processing)\n",
    "Xvalid =valid['text'].apply(text_processing)\n",
    "\n",
    "# precheck sample cleaned daata\n",
    "Xtrain"
   ]
  },
  {
   "cell_type": "code",
   "execution_count": 24,
   "id": "f435b8a9",
   "metadata": {
    "execution": {
     "iopub.execute_input": "2022-11-07T20:18:03.982088Z",
     "iopub.status.busy": "2022-11-07T20:18:03.981825Z",
     "iopub.status.idle": "2022-11-07T20:18:03.986547Z",
     "shell.execute_reply": "2022-11-07T20:18:03.985605Z",
     "shell.execute_reply.started": "2022-11-07T20:18:03.982063Z"
    }
   },
   "outputs": [],
   "source": [
    "# create a Sparse BOW vectorizer object\n",
    "count_vectorizer = CountVectorizer(binary=True)"
   ]
  },
  {
   "cell_type": "code",
   "execution_count": 25,
   "id": "3a3eec9b",
   "metadata": {
    "execution": {
     "iopub.execute_input": "2022-11-07T20:18:04.046078Z",
     "iopub.status.busy": "2022-11-07T20:18:04.045813Z",
     "iopub.status.idle": "2022-11-07T20:18:04.314178Z",
     "shell.execute_reply": "2022-11-07T20:18:04.313232Z",
     "shell.execute_reply.started": "2022-11-07T20:18:04.046053Z"
    }
   },
   "outputs": [
    {
     "data": {
      "text/plain": [
       "CountVectorizer(binary=True)"
      ]
     },
     "execution_count": 25,
     "metadata": {},
     "output_type": "execute_result"
    }
   ],
   "source": [
    "# fit the vectorizer with training data\n",
    "count_vectorizer.fit(Xtrain)"
   ]
  },
  {
   "cell_type": "code",
   "execution_count": 26,
   "id": "7d394580",
   "metadata": {
    "execution": {
     "iopub.execute_input": "2022-11-07T20:18:04.316797Z",
     "iopub.status.busy": "2022-11-07T20:18:04.316390Z",
     "iopub.status.idle": "2022-11-07T20:18:04.737531Z",
     "shell.execute_reply": "2022-11-07T20:18:04.736468Z",
     "shell.execute_reply.started": "2022-11-07T20:18:04.316757Z"
    }
   },
   "outputs": [],
   "source": [
    "# transform all training, validation and testing data using the vectorizer and convert back to an array\n",
    "Xtrain = count_vectorizer.transform(Xtrain).toarray()\n",
    "Xtest = count_vectorizer.transform(Xtest).toarray()\n",
    "Xvalid = count_vectorizer.transform(Xvalid).toarray()"
   ]
  },
  {
   "cell_type": "code",
   "execution_count": 27,
   "id": "0ef89811",
   "metadata": {
    "execution": {
     "iopub.execute_input": "2022-11-07T20:18:04.739590Z",
     "iopub.status.busy": "2022-11-07T20:18:04.739178Z",
     "iopub.status.idle": "2022-11-07T20:18:04.749985Z",
     "shell.execute_reply": "2022-11-07T20:18:04.748935Z",
     "shell.execute_reply.started": "2022-11-07T20:18:04.739547Z"
    }
   },
   "outputs": [
    {
     "data": {
      "text/plain": [
       "array([[0, 0, 0, ..., 0, 0, 0],\n",
       "       [0, 0, 0, ..., 0, 0, 0],\n",
       "       [0, 0, 0, ..., 0, 0, 0],\n",
       "       ...,\n",
       "       [0, 0, 0, ..., 0, 0, 0],\n",
       "       [0, 0, 0, ..., 0, 0, 0],\n",
       "       [0, 0, 0, ..., 0, 0, 0]])"
      ]
     },
     "execution_count": 27,
     "metadata": {},
     "output_type": "execute_result"
    }
   ],
   "source": [
    "# check sample\n",
    "Xtest"
   ]
  },
  {
   "cell_type": "code",
   "execution_count": 28,
   "id": "92bb80c2",
   "metadata": {
    "execution": {
     "iopub.execute_input": "2022-11-07T20:18:04.752987Z",
     "iopub.status.busy": "2022-11-07T20:18:04.752440Z",
     "iopub.status.idle": "2022-11-07T20:18:04.760634Z",
     "shell.execute_reply": "2022-11-07T20:18:04.759733Z",
     "shell.execute_reply.started": "2022-11-07T20:18:04.752952Z"
    }
   },
   "outputs": [
    {
     "data": {
      "text/plain": [
       "((9797, 11655), (1377, 11655), (1554, 11655))"
      ]
     },
     "execution_count": 28,
     "metadata": {},
     "output_type": "execute_result"
    }
   ],
   "source": [
    "# check the shape\n",
    "Xtrain.shape, Xtest.shape, Xvalid.shape"
   ]
  },
  {
   "cell_type": "code",
   "execution_count": 29,
   "id": "b1ecac00",
   "metadata": {
    "execution": {
     "iopub.execute_input": "2022-11-07T20:18:04.762792Z",
     "iopub.status.busy": "2022-11-07T20:18:04.761809Z",
     "iopub.status.idle": "2022-11-07T20:18:04.793981Z",
     "shell.execute_reply": "2022-11-07T20:18:04.793002Z",
     "shell.execute_reply.started": "2022-11-07T20:18:04.762752Z"
    }
   },
   "outputs": [],
   "source": [
    "del Xtrain, Xtest, Xvalid"
   ]
  },
  {
   "cell_type": "markdown",
   "id": "e42316b2",
   "metadata": {},
   "source": [
    "### What do you think might be a shortcoming of the previous representation of utterance features? \n",
    "`ANSWERS`\n",
    "```\n",
    "- If the records contain new words, then size of the matrix would continue to increase which is not efficient.\n",
    "- There are many zeros in the vector thus resulting in a very sparse matrix which needs to be avoided.\n",
    "- There is not information on grammer from the sentences or ordering of the words in the text hence the text cannot be reconstructed without loosing information.\n",
    "```\n",
    "\n",
    "\n",
    "- You may have guessed there are many words which are not necessarily adding much value to the classifier. For instance, words like ‘the’, ‘is’, ‘and’ are not words that help us humans identify whether an utterance belongs to a specific sentiment class. As you would remember, these words are referred to as ‘stop words’ in the NLP domain.\n",
    "\n",
    "- In this step, you will remove such stop words from the utterance and build the BOW features again so that your BOW representation is free of words that do not add much value to the classifier."
   ]
  },
  {
   "cell_type": "code",
   "execution_count": 30,
   "id": "23fcb5cc",
   "metadata": {
    "execution": {
     "iopub.execute_input": "2022-11-07T20:18:04.796093Z",
     "iopub.status.busy": "2022-11-07T20:18:04.795163Z",
     "iopub.status.idle": "2022-11-07T20:18:04.806471Z",
     "shell.execute_reply": "2022-11-07T20:18:04.805558Z",
     "shell.execute_reply.started": "2022-11-07T20:18:04.796055Z"
    }
   },
   "outputs": [],
   "source": [
    "# Getting the list of stopwords and appending additional words to it\n",
    "stopwords_list = list(set(stopwords.words('english')))"
   ]
  },
  {
   "cell_type": "markdown",
   "id": "9dfa880b",
   "metadata": {},
   "source": [
    "- The function below removes stopwords from the text, it is an extension of previous function."
   ]
  },
  {
   "cell_type": "code",
   "execution_count": 31,
   "id": "a2961a1a",
   "metadata": {
    "execution": {
     "iopub.execute_input": "2022-11-07T20:18:04.809452Z",
     "iopub.status.busy": "2022-11-07T20:18:04.809195Z",
     "iopub.status.idle": "2022-11-07T20:18:04.817541Z",
     "shell.execute_reply": "2022-11-07T20:18:04.816420Z",
     "shell.execute_reply.started": "2022-11-07T20:18:04.809428Z"
    }
   },
   "outputs": [],
   "source": [
    "# this function will be used to clean the text column above\n",
    "# it get only words that are not stopwords and are of length over 3\n",
    "#it also clean by removing some unwanted characters.\n",
    "def text_processing_stopwords(text):\n",
    "    \"\"\"\n",
    "    This function removes any stopwords in the text\n",
    "    It also removes punctuations\n",
    "    and lastly it lemmatixe the word into its root form\n",
    "    \"\"\"\n",
    "    \n",
    "    #remove new lines escape characters\n",
    "    text = re.sub(r\"\\n\", \"\", text)\n",
    "    # convert to lowercase\n",
    "    text = text.lower()\n",
    "    # remove non letters\n",
    "    text = re.sub(r\"[^a-zA-Z0-9]\\s\", \"\", text)\n",
    "    \n",
    "    # tokenize the text into words\n",
    "    words = text.split()\n",
    "    # remove stopwords\n",
    "    words = [w for w in words if w not in stopwords_list]\n",
    "    # return a new sentense with the applied functions\n",
    "    return \" \".join(words)"
   ]
  },
  {
   "cell_type": "code",
   "execution_count": 32,
   "id": "305ffd4c",
   "metadata": {
    "execution": {
     "iopub.execute_input": "2022-11-07T20:18:04.819810Z",
     "iopub.status.busy": "2022-11-07T20:18:04.819385Z",
     "iopub.status.idle": "2022-11-07T20:18:05.315655Z",
     "shell.execute_reply": "2022-11-07T20:18:05.314678Z",
     "shell.execute_reply.started": "2022-11-07T20:18:04.819775Z"
    }
   },
   "outputs": [],
   "source": [
    "# apply the function to all dataset.\n",
    "Xtrain_stop = train['text'].apply(text_processing_stopwords)\n",
    "Xtest_stop = test['text'].apply(text_processing_stopwords)\n",
    "Xvalid_stop = valid['text'].apply(text_processing_stopwords)"
   ]
  },
  {
   "cell_type": "code",
   "execution_count": 33,
   "id": "505a5635",
   "metadata": {
    "execution": {
     "iopub.execute_input": "2022-11-07T20:18:05.318810Z",
     "iopub.status.busy": "2022-11-07T20:18:05.318342Z",
     "iopub.status.idle": "2022-11-07T20:18:05.326280Z",
     "shell.execute_reply": "2022-11-07T20:18:05.325294Z",
     "shell.execute_reply.started": "2022-11-07T20:18:05.318773Z"
    }
   },
   "outputs": [
    {
     "data": {
      "text/plain": [
       "0       got arrested younger_commaand scared back poli...\n",
       "1                                seriouswhy scared wreck?\n",
       "2       yes_commai live orlando lucky central_commabut...\n",
       "3             long time_commabut eventually got bit older\n",
       "4                                    know feellife short.\n",
       "                              ...                        \n",
       "1549                rabbit died last year_commai miss day\n",
       "1550            oh reallyi checking outi would love some.\n",
       "1551         envy everyone outside right enjoying weather\n",
       "1552    that's greati hope domaybe time get $40but gam...\n",
       "1553    think positives new car doesnt mean life great...\n",
       "Name: text, Length: 1554, dtype: object"
      ]
     },
     "execution_count": 33,
     "metadata": {},
     "output_type": "execute_result"
    }
   ],
   "source": [
    "# check a sample.\n",
    "Xvalid_stop"
   ]
  },
  {
   "cell_type": "code",
   "execution_count": 34,
   "id": "d1579e4c",
   "metadata": {
    "execution": {
     "iopub.execute_input": "2022-11-07T20:18:05.328461Z",
     "iopub.status.busy": "2022-11-07T20:18:05.327887Z",
     "iopub.status.idle": "2022-11-07T20:18:05.336918Z",
     "shell.execute_reply": "2022-11-07T20:18:05.335966Z",
     "shell.execute_reply.started": "2022-11-07T20:18:05.328426Z"
    }
   },
   "outputs": [],
   "source": [
    "# create a binary BOW vectorizer for the text data\n",
    "count_vectorizer_stop = CountVectorizer(binary=False)"
   ]
  },
  {
   "cell_type": "code",
   "execution_count": 35,
   "id": "1e015988",
   "metadata": {
    "execution": {
     "iopub.execute_input": "2022-11-07T20:18:05.338748Z",
     "iopub.status.busy": "2022-11-07T20:18:05.338389Z",
     "iopub.status.idle": "2022-11-07T20:18:05.460528Z",
     "shell.execute_reply": "2022-11-07T20:18:05.459562Z",
     "shell.execute_reply.started": "2022-11-07T20:18:05.338714Z"
    }
   },
   "outputs": [
    {
     "data": {
      "text/plain": [
       "CountVectorizer()"
      ]
     },
     "execution_count": 35,
     "metadata": {},
     "output_type": "execute_result"
    }
   ],
   "source": [
    "# train the vectorizer..\n",
    "count_vectorizer_stop.fit(Xtrain_stop)"
   ]
  },
  {
   "cell_type": "code",
   "execution_count": 36,
   "id": "8f108d1a",
   "metadata": {
    "execution": {
     "iopub.execute_input": "2022-11-07T20:18:05.462309Z",
     "iopub.status.busy": "2022-11-07T20:18:05.461966Z",
     "iopub.status.idle": "2022-11-07T20:18:05.740447Z",
     "shell.execute_reply": "2022-11-07T20:18:05.739335Z",
     "shell.execute_reply.started": "2022-11-07T20:18:05.462274Z"
    }
   },
   "outputs": [],
   "source": [
    "# transform all data with the trained vectorizer that had its stopwords removed.\n",
    "Xtrain_stop = count_vectorizer_stop.transform(Xtrain_stop).toarray()\n",
    "Xtest_stop = count_vectorizer_stop.transform(Xtest_stop).toarray()\n",
    "Xvalid_stop = count_vectorizer_stop.transform(Xvalid_stop).toarray()"
   ]
  },
  {
   "cell_type": "code",
   "execution_count": 37,
   "id": "2b44253c",
   "metadata": {
    "execution": {
     "iopub.execute_input": "2022-11-07T20:18:05.743835Z",
     "iopub.status.busy": "2022-11-07T20:18:05.742096Z",
     "iopub.status.idle": "2022-11-07T20:18:05.751276Z",
     "shell.execute_reply": "2022-11-07T20:18:05.750194Z",
     "shell.execute_reply.started": "2022-11-07T20:18:05.743782Z"
    }
   },
   "outputs": [
    {
     "data": {
      "text/plain": [
       "((9797, 14092), (1377, 14092), (1554, 14092))"
      ]
     },
     "execution_count": 37,
     "metadata": {},
     "output_type": "execute_result"
    }
   ],
   "source": [
    "# check shape..\n",
    "Xtrain_stop.shape, Xtest_stop.shape, Xvalid_stop.shape"
   ]
  },
  {
   "cell_type": "code",
   "execution_count": null,
   "id": "712271c8",
   "metadata": {},
   "outputs": [],
   "source": []
  },
  {
   "cell_type": "markdown",
   "id": "daf13f99",
   "metadata": {
    "execution": {
     "iopub.execute_input": "2022-11-04T19:09:53.661021Z",
     "iopub.status.busy": "2022-11-04T19:09:53.660663Z",
     "iopub.status.idle": "2022-11-04T19:09:53.671791Z",
     "shell.execute_reply": "2022-11-04T19:09:53.670811Z",
     "shell.execute_reply.started": "2022-11-04T19:09:53.660985Z"
    }
   },
   "source": [
    "#### Normalization: \n",
    "- Another problem with the current representation is that we weigh each non-stop-word term the same. \n",
    "- A proven way to normalize is Term Frequency - Inverse Document Frequency (TF-IDF). This should normalize frequencies in a weighted fashion to a value between 0 and 1.\n",
    "\n",
    "- Below is the vectorization with TFIDF vectorizer..\n"
   ]
  },
  {
   "cell_type": "code",
   "execution_count": 38,
   "id": "8e8fc417",
   "metadata": {
    "execution": {
     "iopub.execute_input": "2022-11-07T20:18:05.755222Z",
     "iopub.status.busy": "2022-11-07T20:18:05.754721Z",
     "iopub.status.idle": "2022-11-07T20:18:06.604422Z",
     "shell.execute_reply": "2022-11-07T20:18:06.603457Z",
     "shell.execute_reply.started": "2022-11-07T20:18:05.755186Z"
    }
   },
   "outputs": [
    {
     "data": {
      "text/plain": [
       "TfidfTransformer()"
      ]
     },
     "execution_count": 38,
     "metadata": {},
     "output_type": "execute_result"
    }
   ],
   "source": [
    "# create tfidf object to vectorize the text\n",
    "train_tfidf_transformer = TfidfTransformer()\n",
    "# train the tfidf object using the processed text data\n",
    "train_tfidf_transformer.fit(Xtrain_stop)\n"
   ]
  },
  {
   "cell_type": "code",
   "execution_count": 39,
   "id": "226ae0e0",
   "metadata": {
    "execution": {
     "iopub.execute_input": "2022-11-07T20:18:06.606579Z",
     "iopub.status.busy": "2022-11-07T20:18:06.605972Z",
     "iopub.status.idle": "2022-11-07T20:18:08.203576Z",
     "shell.execute_reply": "2022-11-07T20:18:08.202571Z",
     "shell.execute_reply.started": "2022-11-07T20:18:06.606540Z"
    }
   },
   "outputs": [],
   "source": [
    "# transform all data using the trained tfidf vectorizer\n",
    "Xtrain_tfidf = train_tfidf_transformer.transform(Xtrain_stop)\n",
    "Xtest_tfidf = train_tfidf_transformer.transform(Xtest_stop)\n",
    "Xvalid_tfidf = train_tfidf_transformer.transform(Xvalid_stop)"
   ]
  },
  {
   "cell_type": "code",
   "execution_count": 40,
   "id": "4331f1e4",
   "metadata": {
    "execution": {
     "iopub.execute_input": "2022-11-07T20:18:08.206022Z",
     "iopub.status.busy": "2022-11-07T20:18:08.204953Z",
     "iopub.status.idle": "2022-11-07T20:18:08.212764Z",
     "shell.execute_reply": "2022-11-07T20:18:08.211793Z",
     "shell.execute_reply.started": "2022-11-07T20:18:08.205976Z"
    }
   },
   "outputs": [
    {
     "data": {
      "text/plain": [
       "((9797, 14092), (1377, 14092), (1554, 14092))"
      ]
     },
     "execution_count": 40,
     "metadata": {},
     "output_type": "execute_result"
    }
   ],
   "source": [
    "# check the shape\n",
    "Xtrain_tfidf.shape, Xtest_tfidf.shape, Xvalid_tfidf.shape"
   ]
  },
  {
   "cell_type": "code",
   "execution_count": 41,
   "id": "1129ac49",
   "metadata": {
    "execution": {
     "iopub.execute_input": "2022-11-07T20:18:08.214848Z",
     "iopub.status.busy": "2022-11-07T20:18:08.214021Z",
     "iopub.status.idle": "2022-11-07T20:18:09.429400Z",
     "shell.execute_reply": "2022-11-07T20:18:09.428458Z",
     "shell.execute_reply.started": "2022-11-07T20:18:08.214809Z"
    }
   },
   "outputs": [
    {
     "data": {
      "text/plain": [
       "(0.0, 1.0)"
      ]
     },
     "execution_count": 41,
     "metadata": {},
     "output_type": "execute_result"
    }
   ],
   "source": [
    "# check max and min value from the returned array\n",
    "Xtrain_tfidf.toarray().min(), Xtrain_tfidf.toarray().max()"
   ]
  },
  {
   "cell_type": "markdown",
   "id": "00a68346",
   "metadata": {
    "execution": {
     "iopub.execute_input": "2022-11-04T19:09:56.771484Z",
     "iopub.status.busy": "2022-11-04T19:09:56.770444Z",
     "iopub.status.idle": "2022-11-04T19:09:56.776208Z",
     "shell.execute_reply": "2022-11-04T19:09:56.774948Z",
     "shell.execute_reply.started": "2022-11-04T19:09:56.771425Z"
    }
   },
   "source": [
    "#### Build a SGD classifier for the utterance sentiment classification and perform error analysis on the train data. \n"
   ]
  },
  {
   "cell_type": "code",
   "execution_count": 42,
   "id": "eab6e4a0",
   "metadata": {
    "execution": {
     "iopub.execute_input": "2022-11-07T20:18:09.433143Z",
     "iopub.status.busy": "2022-11-07T20:18:09.432872Z",
     "iopub.status.idle": "2022-11-07T20:18:09.571366Z",
     "shell.execute_reply": "2022-11-07T20:18:09.570080Z",
     "shell.execute_reply.started": "2022-11-07T20:18:09.433117Z"
    }
   },
   "outputs": [
    {
     "data": {
      "text/plain": [
       "0.5809731299927379"
      ]
     },
     "execution_count": 42,
     "metadata": {},
     "output_type": "execute_result"
    }
   ],
   "source": [
    "sdg_clf = SGDClassifier(alpha=0.0001, average=True, max_iter=200, penalty='l2', loss='hinge', early_stopping=True,random_state=2022,tol=0.0001,\n",
    "                        n_iter_no_change=4, epsilon=0.3, class_weight='balanced', validation_fraction=0.15)\n",
    "# train\n",
    "sdg_clf.fit(Xtrain_tfidf, Ytrain)\n",
    "\n",
    "# get testiing accuracy\n",
    "sdg_clf.score(Xtest_tfidf, Ytest)"
   ]
  },
  {
   "cell_type": "code",
   "execution_count": 43,
   "id": "8e273333",
   "metadata": {
    "execution": {
     "iopub.execute_input": "2022-11-07T20:18:09.580290Z",
     "iopub.status.busy": "2022-11-07T20:18:09.574252Z",
     "iopub.status.idle": "2022-11-07T20:18:09.586864Z",
     "shell.execute_reply": "2022-11-07T20:18:09.585576Z",
     "shell.execute_reply.started": "2022-11-07T20:18:09.580233Z"
    }
   },
   "outputs": [],
   "source": [
    "from sklearn.metrics import accuracy_score, f1_score, precision_score, recall_score, confusion_matrix, classification_report"
   ]
  },
  {
   "cell_type": "code",
   "execution_count": 44,
   "id": "ccda66dd",
   "metadata": {
    "execution": {
     "iopub.execute_input": "2022-11-07T20:18:09.591433Z",
     "iopub.status.busy": "2022-11-07T20:18:09.588649Z",
     "iopub.status.idle": "2022-11-07T20:18:09.615919Z",
     "shell.execute_reply": "2022-11-07T20:18:09.614557Z",
     "shell.execute_reply.started": "2022-11-07T20:18:09.591378Z"
    }
   },
   "outputs": [],
   "source": [
    "# function for model evaluation\n",
    "def get_evaluations(model, x_test , y_test, model_name, clasical_model=True):\n",
    "    print(f\"\\t\\t********** {model_name}  Evaluation STATS **********\\n\")\n",
    "    #get predicition from the trained model\n",
    "    if clasical_model:\n",
    "        model_preds = model.predict(x_test)\n",
    "    else:\n",
    "        model_preds = model.predict(x_test).argmax(axis=1)\n",
    "        y_test = y_test.argmax(axis=1)\n",
    "    \n",
    "    #print these metrics.\n",
    "    print(f\"Accuracy :   {accuracy_score(y_test , model_preds)*100}%\")\n",
    "    print(f\"F1 Score :   {f1_score(y_test , model_preds, average='weighted')*100}%\")\n",
    "    print(f\"Recall Score :   {recall_score(y_test , model_preds, average='weighted')*100}%\")\n",
    "    print(f\"Precision Score :   {precision_score(y_test , model_preds, average='weighted')*100}%\\n\")\n",
    "    print(\"\\tClasssification Report\")\n",
    "    print(classification_report(y_test, model_preds))\n",
    "    #plot confusion plot\n",
    "    c_matrix = confusion_matrix(lbl_enc.inverse_transform(y_test), lbl_enc.inverse_transform(model_preds))\n",
    "    # plot cmatrix\n",
    "    plt.figure(figsize=(8,8))\n",
    "    sns.heatmap(c_matrix , annot= True ,fmt=\"\" ,  annot_kws={\"size\": 10})\n",
    "    plt.xlabel(\"Actual Label\", fontsize=17, c='b')\n",
    "    plt.ylabel(\"Predicted Label\", fontsize=17, c='b')\n",
    "    plt.title(f\"Confusion Matrix Plot for {model_name} classifier\", fontsize=16, c='b')"
   ]
  },
  {
   "cell_type": "code",
   "execution_count": 45,
   "id": "5a3de441",
   "metadata": {
    "execution": {
     "iopub.execute_input": "2022-11-07T20:18:09.622770Z",
     "iopub.status.busy": "2022-11-07T20:18:09.621716Z",
     "iopub.status.idle": "2022-11-07T20:18:09.958470Z",
     "shell.execute_reply": "2022-11-07T20:18:09.957444Z",
     "shell.execute_reply.started": "2022-11-07T20:18:09.622721Z"
    }
   },
   "outputs": [
    {
     "name": "stdout",
     "output_type": "stream",
     "text": [
      "\t\t********** SDG regression  Evaluation STATS **********\n",
      "\n",
      "Accuracy :   59.65250965250966%\n",
      "F1 Score :   59.553625217041805%\n",
      "Recall Score :   59.65250965250966%\n",
      "Precision Score :   59.741581794172774%\n",
      "\n",
      "\tClasssification Report\n",
      "              precision    recall  f1-score   support\n",
      "\n",
      "           0       0.59      0.56      0.58       386\n",
      "           1       0.54      0.59      0.56       369\n",
      "           2       0.62      0.55      0.58       438\n",
      "           3       0.63      0.70      0.66       361\n",
      "\n",
      "    accuracy                           0.60      1554\n",
      "   macro avg       0.60      0.60      0.60      1554\n",
      "weighted avg       0.60      0.60      0.60      1554\n",
      "\n"
     ]
    },
    {
     "data": {
      "image/png": "[encoded data removed]",
      "text/plain": [
       "<Figure size 576x576 with 2 Axes>"
      ]
     },
     "metadata": {
      "needs_background": "light"
     },
     "output_type": "display_data"
    }
   ],
   "source": [
    "# get the SDG  evaluation\n",
    "get_evaluations(sdg_clf, Xvalid_tfidf , Yvalid, \"SDG regression\")"
   ]
  },
  {
   "cell_type": "markdown",
   "id": "3bcd1dda",
   "metadata": {},
   "source": [
    "### Observation\n",
    "- On validation, `JOY` untterance was the one with lowest prediction score althought it was just less 1% from others.\n",
    "- The average accuracy for the model was 60% which means, for every text that is predicted, it is 60% accurate that it is in the correct label of utterance.\n",
    "- Most of the `JOYFUL` utterance were being predicted as `JEALOUS` with 70 values done this."
   ]
  },
  {
   "cell_type": "code",
   "execution_count": 46,
   "id": "92b81ed6",
   "metadata": {
    "execution": {
     "iopub.execute_input": "2022-11-07T20:18:09.962118Z",
     "iopub.status.busy": "2022-11-07T20:18:09.961812Z",
     "iopub.status.idle": "2022-11-07T20:18:09.969338Z",
     "shell.execute_reply": "2022-11-07T20:18:09.968355Z",
     "shell.execute_reply.started": "2022-11-07T20:18:09.962088Z"
    }
   },
   "outputs": [
    {
     "data": {
      "text/plain": [
       "array(['jealous', 'joyful', 'sad', 'terrified'], dtype=object)"
      ]
     },
     "execution_count": 46,
     "metadata": {},
     "output_type": "execute_result"
    }
   ],
   "source": [
    "lbl_enc.classes_"
   ]
  },
  {
   "cell_type": "code",
   "execution_count": 47,
   "id": "85ac1815",
   "metadata": {
    "execution": {
     "iopub.execute_input": "2022-11-07T20:18:09.971708Z",
     "iopub.status.busy": "2022-11-07T20:18:09.970744Z",
     "iopub.status.idle": "2022-11-07T20:18:10.000069Z",
     "shell.execute_reply": "2022-11-07T20:18:09.999202Z",
     "shell.execute_reply.started": "2022-11-07T20:18:09.971670Z"
    }
   },
   "outputs": [],
   "source": [
    "del Xtrain_stop, Xtest_stop, Xvalid_stop"
   ]
  },
  {
   "cell_type": "markdown",
   "id": "40d7c5d6",
   "metadata": {},
   "source": [
    "### Build a classifier using pre-trained word embeddings like word2vec or gloVe or as the feature and an MLP classifier. Report the confusion matrix, F1 score and test accuracy."
   ]
  },
  {
   "cell_type": "code",
   "execution_count": 48,
   "id": "1f26899e",
   "metadata": {
    "execution": {
     "iopub.execute_input": "2022-11-07T20:18:10.003025Z",
     "iopub.status.busy": "2022-11-07T20:18:10.002323Z",
     "iopub.status.idle": "2022-11-07T20:18:10.010293Z",
     "shell.execute_reply": "2022-11-07T20:18:10.009356Z",
     "shell.execute_reply.started": "2022-11-07T20:18:10.002989Z"
    }
   },
   "outputs": [],
   "source": [
    "# use gensim to get w2vec model\n",
    "import gensim"
   ]
  },
  {
   "cell_type": "code",
   "execution_count": 49,
   "id": "0480d13a",
   "metadata": {
    "execution": {
     "iopub.execute_input": "2022-11-07T20:18:10.012160Z",
     "iopub.status.busy": "2022-11-07T20:18:10.011797Z",
     "iopub.status.idle": "2022-11-07T20:18:11.115121Z",
     "shell.execute_reply": "2022-11-07T20:18:11.114171Z",
     "shell.execute_reply.started": "2022-11-07T20:18:10.012101Z"
    }
   },
   "outputs": [],
   "source": [
    "# using training data, train a word2vec model\n",
    "w2v_model = gensim.models.Word2Vec(train['text'].apply(lambda x: gensim.utils.simple_preprocess(x)),\n",
    "                                   vector_size=100,\n",
    "                                   window=5,\n",
    "                                   min_count=3)"
   ]
  },
  {
   "cell_type": "code",
   "execution_count": 50,
   "id": "33a29981",
   "metadata": {
    "execution": {
     "iopub.execute_input": "2022-11-07T20:18:11.117051Z",
     "iopub.status.busy": "2022-11-07T20:18:11.116718Z",
     "iopub.status.idle": "2022-11-07T20:18:11.123886Z",
     "shell.execute_reply": "2022-11-07T20:18:11.122819Z",
     "shell.execute_reply.started": "2022-11-07T20:18:11.117012Z"
    }
   },
   "outputs": [
    {
     "data": {
      "text/plain": [
       "3149"
      ]
     },
     "execution_count": 50,
     "metadata": {},
     "output_type": "execute_result"
    }
   ],
   "source": [
    "# number of words we have as index in the word2vec model\n",
    "len(w2v_model.wv.index_to_key)"
   ]
  },
  {
   "cell_type": "code",
   "execution_count": 51,
   "id": "408fd161",
   "metadata": {
    "execution": {
     "iopub.execute_input": "2022-11-07T20:18:11.126391Z",
     "iopub.status.busy": "2022-11-07T20:18:11.125663Z",
     "iopub.status.idle": "2022-11-07T20:18:11.139886Z",
     "shell.execute_reply": "2022-11-07T20:18:11.138573Z",
     "shell.execute_reply.started": "2022-11-07T20:18:11.126353Z"
    }
   },
   "outputs": [
    {
     "data": {
      "text/plain": [
       "[('unfortunately', 0.962105393409729),\n",
       " ('cake', 0.961903989315033),\n",
       " ('bummed', 0.9616461396217346),\n",
       " ('cancer', 0.9616392850875854),\n",
       " ('binders', 0.9608043432235718),\n",
       " ('once', 0.9605233669281006),\n",
       " ('red', 0.9600427746772766),\n",
       " ('season', 0.9599646329879761),\n",
       " ('minutes', 0.9597904086112976),\n",
       " ('beautiful', 0.9595981240272522)]"
      ]
     },
     "execution_count": 51,
     "metadata": {},
     "output_type": "execute_result"
    }
   ],
   "source": [
    "# Find the most similar words to \"hello\" based on word vectors from our trained model\n",
    "w2v_model.wv.most_similar('hello')"
   ]
  },
  {
   "cell_type": "code",
   "execution_count": 52,
   "id": "290ec272",
   "metadata": {
    "execution": {
     "iopub.execute_input": "2022-11-07T20:18:11.142554Z",
     "iopub.status.busy": "2022-11-07T20:18:11.141739Z",
     "iopub.status.idle": "2022-11-07T20:18:11.921917Z",
     "shell.execute_reply": "2022-11-07T20:18:11.920908Z",
     "shell.execute_reply.started": "2022-11-07T20:18:11.142516Z"
    }
   },
   "outputs": [],
   "source": [
    "# Generate aggregated sentence vectors based on the word vectors for each word in the sentence\n",
    "words = set(w2v_model.wv.index_to_key )\n",
    "X_train_vect = np.array([np.array([w2v_model.wv[i] for i in ls if i in words]) for ls in train['text'].apply(lambda x: gensim.utils.simple_preprocess(x))])\n",
    "X_test_vect = np.array([np.array([w2v_model.wv[i] for i in ls if i in words]) for ls in test['text'].apply(lambda x: gensim.utils.simple_preprocess(x))])\n",
    "X_val_vect = np.array([np.array([w2v_model.wv[i] for i in ls if i in words]) for ls in valid['text'].apply(lambda x: gensim.utils.simple_preprocess(x))])"
   ]
  },
  {
   "cell_type": "code",
   "execution_count": 53,
   "id": "dfa08045",
   "metadata": {
    "execution": {
     "iopub.execute_input": "2022-11-07T20:18:11.927765Z",
     "iopub.status.busy": "2022-11-07T20:18:11.927448Z",
     "iopub.status.idle": "2022-11-07T20:18:11.936193Z",
     "shell.execute_reply": "2022-11-07T20:18:11.935159Z",
     "shell.execute_reply.started": "2022-11-07T20:18:11.927737Z"
    }
   },
   "outputs": [
    {
     "data": {
      "text/plain": [
       "((9797,), (1377,), (1554,))"
      ]
     },
     "execution_count": 53,
     "metadata": {},
     "output_type": "execute_result"
    }
   ],
   "source": [
    "X_train_vect.shape, X_test_vect.shape, X_val_vect.shape"
   ]
  },
  {
   "cell_type": "code",
   "execution_count": 54,
   "id": "645b4452",
   "metadata": {
    "execution": {
     "iopub.execute_input": "2022-11-07T20:18:11.939584Z",
     "iopub.status.busy": "2022-11-07T20:18:11.939206Z",
     "iopub.status.idle": "2022-11-07T20:18:12.070480Z",
     "shell.execute_reply": "2022-11-07T20:18:12.069548Z",
     "shell.execute_reply.started": "2022-11-07T20:18:11.939539Z"
    }
   },
   "outputs": [],
   "source": [
    "# padd the vectors to be of the same length (100) and find vectors average\n",
    "X_train_vect_avg = []\n",
    "for v in X_train_vect:\n",
    "    if v.size:\n",
    "        X_train_vect_avg.append(v.mean(axis=0))\n",
    "    else:\n",
    "        X_train_vect_avg.append(np.zeros(100, dtype=float))\n",
    "        \n",
    "X_test_vect_avg = []\n",
    "for v in X_test_vect:\n",
    "    if v.size:\n",
    "        X_test_vect_avg.append(v.mean(axis=0))\n",
    "    else:\n",
    "        X_test_vect_avg.append(np.zeros(100, dtype=float))\n",
    "X_val_vect_avg = []\n",
    "for v in X_val_vect:\n",
    "    if v.size:\n",
    "        X_val_vect_avg.append(v.mean(axis=0))\n",
    "    else:\n",
    "        X_val_vect_avg.append(np.zeros(100, dtype=float))"
   ]
  },
  {
   "cell_type": "markdown",
   "id": "e6f83f55",
   "metadata": {},
   "source": [
    "### Training the MLP Classifier using Word2Vec Features"
   ]
  },
  {
   "cell_type": "code",
   "execution_count": 55,
   "id": "b7bad94e",
   "metadata": {
    "execution": {
     "iopub.execute_input": "2022-11-07T20:18:12.072253Z",
     "iopub.status.busy": "2022-11-07T20:18:12.071794Z",
     "iopub.status.idle": "2022-11-07T20:18:12.079403Z",
     "shell.execute_reply": "2022-11-07T20:18:12.078334Z",
     "shell.execute_reply.started": "2022-11-07T20:18:12.072216Z"
    }
   },
   "outputs": [
    {
     "data": {
      "text/plain": [
       "(9797, 1377, 1554)"
      ]
     },
     "execution_count": 55,
     "metadata": {},
     "output_type": "execute_result"
    }
   ],
   "source": [
    "len(X_train_vect_avg), len(X_test_vect_avg), len(X_val_vect_avg)"
   ]
  },
  {
   "cell_type": "code",
   "execution_count": 56,
   "id": "1f0f225c",
   "metadata": {
    "execution": {
     "iopub.execute_input": "2022-11-07T20:18:12.081980Z",
     "iopub.status.busy": "2022-11-07T20:18:12.081032Z",
     "iopub.status.idle": "2022-11-07T20:18:12.091032Z",
     "shell.execute_reply": "2022-11-07T20:18:12.089908Z",
     "shell.execute_reply.started": "2022-11-07T20:18:12.081934Z"
    }
   },
   "outputs": [
    {
     "data": {
      "text/plain": [
       "(100,)"
      ]
     },
     "execution_count": 56,
     "metadata": {},
     "output_type": "execute_result"
    }
   ],
   "source": [
    "X_test_vect_avg[0].shape"
   ]
  },
  {
   "cell_type": "code",
   "execution_count": 57,
   "id": "cb09efb3",
   "metadata": {
    "execution": {
     "iopub.execute_input": "2022-11-07T20:18:12.093445Z",
     "iopub.status.busy": "2022-11-07T20:18:12.092942Z",
     "iopub.status.idle": "2022-11-07T20:18:12.103487Z",
     "shell.execute_reply": "2022-11-07T20:18:12.102300Z",
     "shell.execute_reply.started": "2022-11-07T20:18:12.093409Z"
    }
   },
   "outputs": [
    {
     "data": {
      "text/plain": [
       "(1377, 100)"
      ]
     },
     "execution_count": 57,
     "metadata": {},
     "output_type": "execute_result"
    }
   ],
   "source": [
    "np.array(X_test_vect_avg).reshape(-1, 100).shape"
   ]
  },
  {
   "cell_type": "code",
   "execution_count": 58,
   "id": "408b1bb8",
   "metadata": {
    "execution": {
     "iopub.execute_input": "2022-11-07T20:18:12.105727Z",
     "iopub.status.busy": "2022-11-07T20:18:12.105305Z",
     "iopub.status.idle": "2022-11-07T20:18:12.122665Z",
     "shell.execute_reply": "2022-11-07T20:18:12.121836Z",
     "shell.execute_reply.started": "2022-11-07T20:18:12.105689Z"
    }
   },
   "outputs": [],
   "source": [
    "X_train_vect_avg = np.array(X_train_vect_avg).reshape(-1, 100)\n",
    "X_test_vect_avg = np.array(X_test_vect_avg).reshape(-1, 100)\n",
    "X_val_vect_avg = np.array(X_val_vect_avg).reshape(-1, 100)"
   ]
  },
  {
   "cell_type": "code",
   "execution_count": 59,
   "id": "fc1a1c45",
   "metadata": {
    "execution": {
     "iopub.execute_input": "2022-11-07T20:18:12.124377Z",
     "iopub.status.busy": "2022-11-07T20:18:12.124021Z",
     "iopub.status.idle": "2022-11-07T20:18:12.129255Z",
     "shell.execute_reply": "2022-11-07T20:18:12.128204Z",
     "shell.execute_reply.started": "2022-11-07T20:18:12.124342Z"
    }
   },
   "outputs": [],
   "source": [
    "#Initializing the MLPClassifier\n",
    "mlp_clf = MLPClassifier(\n",
    "    hidden_layer_sizes=(200,10), \n",
    "    max_iter=300,\n",
    "    activation = 'relu',\n",
    "    solver='adam',\n",
    "    random_state=0)"
   ]
  },
  {
   "cell_type": "code",
   "execution_count": 60,
   "id": "2de0b9f1",
   "metadata": {
    "execution": {
     "iopub.execute_input": "2022-11-07T20:18:12.132320Z",
     "iopub.status.busy": "2022-11-07T20:18:12.131425Z",
     "iopub.status.idle": "2022-11-07T20:18:35.294104Z",
     "shell.execute_reply": "2022-11-07T20:18:35.292837Z",
     "shell.execute_reply.started": "2022-11-07T20:18:12.132278Z"
    }
   },
   "outputs": [
    {
     "data": {
      "text/plain": [
       "MLPClassifier(hidden_layer_sizes=(200, 10), max_iter=300, random_state=0)"
      ]
     },
     "execution_count": 60,
     "metadata": {},
     "output_type": "execute_result"
    }
   ],
   "source": [
    "# train the mlp classifier\n",
    "mlp_clf.fit(X_train_vect_avg, Ytrain)"
   ]
  },
  {
   "cell_type": "code",
   "execution_count": 61,
   "id": "2912e3f5",
   "metadata": {
    "execution": {
     "iopub.execute_input": "2022-11-07T20:18:35.303248Z",
     "iopub.status.busy": "2022-11-07T20:18:35.300072Z",
     "iopub.status.idle": "2022-11-07T20:18:35.327795Z",
     "shell.execute_reply": "2022-11-07T20:18:35.326168Z",
     "shell.execute_reply.started": "2022-11-07T20:18:35.303193Z"
    }
   },
   "outputs": [
    {
     "data": {
      "text/plain": [
       "0.4713144517066086"
      ]
     },
     "execution_count": 61,
     "metadata": {},
     "output_type": "execute_result"
    }
   ],
   "source": [
    "# get the score on test data\n",
    "mlp_clf.score(X_test_vect_avg, Ytest)"
   ]
  },
  {
   "cell_type": "code",
   "execution_count": 62,
   "id": "cb910d86",
   "metadata": {
    "execution": {
     "iopub.execute_input": "2022-11-07T20:18:35.337186Z",
     "iopub.status.busy": "2022-11-07T20:18:35.333917Z",
     "iopub.status.idle": "2022-11-07T20:18:35.822641Z",
     "shell.execute_reply": "2022-11-07T20:18:35.821763Z",
     "shell.execute_reply.started": "2022-11-07T20:18:35.337118Z"
    }
   },
   "outputs": [
    {
     "name": "stdout",
     "output_type": "stream",
     "text": [
      "\t\t********** MLP with Word2Vec Classifier  Evaluation STATS **********\n",
      "\n",
      "Accuracy :   46.46074646074646%\n",
      "F1 Score :   46.445182667051874%\n",
      "Recall Score :   46.46074646074646%\n",
      "Precision Score :   46.64679340139845%\n",
      "\n",
      "\tClasssification Report\n",
      "              precision    recall  f1-score   support\n",
      "\n",
      "           0       0.42      0.47      0.45       386\n",
      "           1       0.48      0.41      0.44       369\n",
      "           2       0.47      0.49      0.48       438\n",
      "           3       0.49      0.49      0.49       361\n",
      "\n",
      "    accuracy                           0.46      1554\n",
      "   macro avg       0.47      0.46      0.46      1554\n",
      "weighted avg       0.47      0.46      0.46      1554\n",
      "\n"
     ]
    },
    {
     "data": {
      "image/png": "[encoded data removed]",
      "text/plain": [
       "<Figure size 576x576 with 2 Axes>"
      ]
     },
     "metadata": {
      "needs_background": "light"
     },
     "output_type": "display_data"
    }
   ],
   "source": [
    "# score for evaluation data\n",
    "get_evaluations(mlp_clf, X_val_vect_avg , Yvalid, \"MLP with Word2Vec Classifier\")"
   ]
  },
  {
   "cell_type": "markdown",
   "id": "1fde83df",
   "metadata": {},
   "source": [
    "#### Build a classifier based on BERT and MLP. \n",
    "- Specifically, which token(s) output you use? "
   ]
  },
  {
   "cell_type": "code",
   "execution_count": 63,
   "id": "6ea56001",
   "metadata": {
    "execution": {
     "iopub.execute_input": "2022-11-07T20:18:35.829310Z",
     "iopub.status.busy": "2022-11-07T20:18:35.827127Z",
     "iopub.status.idle": "2022-11-07T20:18:43.093630Z",
     "shell.execute_reply": "2022-11-07T20:18:43.092534Z",
     "shell.execute_reply.started": "2022-11-07T20:18:35.829271Z"
    }
   },
   "outputs": [
    {
     "name": "stderr",
     "output_type": "stream",
     "text": [
      "Some weights of the model checkpoint at distilbert-base-uncased were not used when initializing DistilBertModel: ['vocab_transform.weight', 'vocab_layer_norm.bias', 'vocab_transform.bias', 'vocab_projector.bias', 'vocab_projector.weight', 'vocab_layer_norm.weight']\n",
      "- This IS expected if you are initializing DistilBertModel from the checkpoint of a model trained on another task or with another architecture (e.g. initializing a BertForSequenceClassification model from a BertForPreTraining model).\n",
      "- This IS NOT expected if you are initializing DistilBertModel from the checkpoint of a model that you expect to be exactly identical (initializing a BertForSequenceClassification model from a BertForSequenceClassification model).\n"
     ]
    }
   ],
   "source": [
    "import torch\n",
    "from transformers import AutoTokenizer, AutoModel\n",
    "device = torch.device('cuda' if torch.cuda.is_available() else 'cpu')\n",
    "\n",
    "tokenizer = AutoTokenizer.from_pretrained(\"distilbert-base-uncased\")\n",
    "model = AutoModel.from_pretrained(\"distilbert-base-uncased\").to(device)"
   ]
  },
  {
   "cell_type": "code",
   "execution_count": 64,
   "id": "bf12aa0c",
   "metadata": {
    "execution": {
     "iopub.execute_input": "2022-11-07T20:18:43.096779Z",
     "iopub.status.busy": "2022-11-07T20:18:43.095745Z",
     "iopub.status.idle": "2022-11-07T20:18:43.117081Z",
     "shell.execute_reply": "2022-11-07T20:18:43.115950Z",
     "shell.execute_reply.started": "2022-11-07T20:18:43.096740Z"
    }
   },
   "outputs": [
    {
     "name": "stdout",
     "output_type": "stream",
     "text": [
      " Original:  The summer has been rough though. They fight a lot\n",
      "Tokenized text:  ['the', 'summer', 'has', 'been', 'rough', 'though', '.', 'they', 'fight', 'a', 'lot']\n",
      "Token Identifiers:  [1996, 2621, 2038, 2042, 5931, 2295, 1012, 2027, 2954, 1037, 2843]\n"
     ]
    }
   ],
   "source": [
    "# original sentense\n",
    "print(' Original: ', train['text'].iloc[0])\n",
    "\n",
    "# tokenizer\n",
    "print('Tokenized text: ', tokenizer.tokenize(train['text'].iloc[0]))\n",
    "\n",
    "# ids for tokkne\n",
    "print('Token Identifiers: ', tokenizer.convert_tokens_to_ids(tokenizer.tokenize(train['text'].iloc[0])))"
   ]
  },
  {
   "cell_type": "code",
   "execution_count": 65,
   "id": "626d43cb",
   "metadata": {
    "execution": {
     "iopub.execute_input": "2022-11-07T20:18:43.119710Z",
     "iopub.status.busy": "2022-11-07T20:18:43.118881Z",
     "iopub.status.idle": "2022-11-07T20:18:43.126329Z",
     "shell.execute_reply": "2022-11-07T20:18:43.125553Z",
     "shell.execute_reply.started": "2022-11-07T20:18:43.119674Z"
    }
   },
   "outputs": [],
   "source": [
    "# tokenizer?"
   ]
  },
  {
   "cell_type": "markdown",
   "id": "6fade164",
   "metadata": {},
   "source": [
    "### GETTING ONLY A PORTION OF THE DATASET.\n",
    "- Since using BERT is computation intensive, the model was crashing when we want to get features for all dataset.\n",
    "- To overcome this, 5000 records are gotten for training, 1000 for testing and 800 for validation"
   ]
  },
  {
   "cell_type": "code",
   "execution_count": 66,
   "id": "900eb5af",
   "metadata": {
    "execution": {
     "iopub.execute_input": "2022-11-07T20:18:43.128711Z",
     "iopub.status.busy": "2022-11-07T20:18:43.127842Z",
     "iopub.status.idle": "2022-11-07T20:18:43.145170Z",
     "shell.execute_reply": "2022-11-07T20:18:43.144427Z",
     "shell.execute_reply.started": "2022-11-07T20:18:43.128674Z"
    }
   },
   "outputs": [],
   "source": [
    "train = train.sample(5000, random_state=2022).reset_index(drop=True)\n",
    "test = test.sample(1000, random_state=2022).reset_index(drop=True)\n",
    "valid = valid.sample(800, random_state=2022).reset_index(drop=True)"
   ]
  },
  {
   "cell_type": "code",
   "execution_count": 67,
   "id": "5ba630f6",
   "metadata": {
    "execution": {
     "iopub.execute_input": "2022-11-07T20:18:43.147395Z",
     "iopub.status.busy": "2022-11-07T20:18:43.146758Z",
     "iopub.status.idle": "2022-11-07T20:18:43.160035Z",
     "shell.execute_reply": "2022-11-07T20:18:43.158916Z",
     "shell.execute_reply.started": "2022-11-07T20:18:43.147359Z"
    }
   },
   "outputs": [
    {
     "data": {
      "text/html": [
       "<div>\n",
       "<style scoped>\n",
       "    .dataframe tbody tr th:only-of-type {\n",
       "        vertical-align: middle;\n",
       "    }\n",
       "\n",
       "    .dataframe tbody tr th {\n",
       "        vertical-align: top;\n",
       "    }\n",
       "\n",
       "    .dataframe thead th {\n",
       "        text-align: right;\n",
       "    }\n",
       "</style>\n",
       "<table border=\"1\" class=\"dataframe\">\n",
       "  <thead>\n",
       "    <tr style=\"text-align: right;\">\n",
       "      <th></th>\n",
       "      <th>label</th>\n",
       "      <th>text</th>\n",
       "    </tr>\n",
       "  </thead>\n",
       "  <tbody>\n",
       "    <tr>\n",
       "      <th>0</th>\n",
       "      <td>terrified</td>\n",
       "      <td>I agree. I bet the little kids have never seen...</td>\n",
       "    </tr>\n",
       "    <tr>\n",
       "      <th>1</th>\n",
       "      <td>terrified</td>\n",
       "      <td>did he end up biting you??</td>\n",
       "    </tr>\n",
       "    <tr>\n",
       "      <th>2</th>\n",
       "      <td>terrified</td>\n",
       "      <td>I was scared to fly for the first time</td>\n",
       "    </tr>\n",
       "    <tr>\n",
       "      <th>3</th>\n",
       "      <td>terrified</td>\n",
       "      <td>It sounded like a train going by the house fro...</td>\n",
       "    </tr>\n",
       "    <tr>\n",
       "      <th>4</th>\n",
       "      <td>terrified</td>\n",
       "      <td>I am a mother not a father silly.  Yes I made ...</td>\n",
       "    </tr>\n",
       "    <tr>\n",
       "      <th>...</th>\n",
       "      <td>...</td>\n",
       "      <td>...</td>\n",
       "    </tr>\n",
       "    <tr>\n",
       "      <th>795</th>\n",
       "      <td>terrified</td>\n",
       "      <td>The other night_comma_ drunk bicyclists were f...</td>\n",
       "    </tr>\n",
       "    <tr>\n",
       "      <th>796</th>\n",
       "      <td>jealous</td>\n",
       "      <td>Interesting_comma_ those things are huge_comma...</td>\n",
       "    </tr>\n",
       "    <tr>\n",
       "      <th>797</th>\n",
       "      <td>terrified</td>\n",
       "      <td>The other day this creepy guy followed me arou...</td>\n",
       "    </tr>\n",
       "    <tr>\n",
       "      <th>798</th>\n",
       "      <td>joyful</td>\n",
       "      <td>It was just some stuff for a new job. Do you f...</td>\n",
       "    </tr>\n",
       "    <tr>\n",
       "      <th>799</th>\n",
       "      <td>jealous</td>\n",
       "      <td>I've come to hate them too unfortunately. Cons...</td>\n",
       "    </tr>\n",
       "  </tbody>\n",
       "</table>\n",
       "<p>800 rows × 2 columns</p>\n",
       "</div>"
      ],
      "text/plain": [
       "         label                                               text\n",
       "0    terrified  I agree. I bet the little kids have never seen...\n",
       "1    terrified                        did he end up biting you?? \n",
       "2    terrified             I was scared to fly for the first time\n",
       "3    terrified  It sounded like a train going by the house fro...\n",
       "4    terrified  I am a mother not a father silly.  Yes I made ...\n",
       "..         ...                                                ...\n",
       "795  terrified  The other night_comma_ drunk bicyclists were f...\n",
       "796    jealous  Interesting_comma_ those things are huge_comma...\n",
       "797  terrified  The other day this creepy guy followed me arou...\n",
       "798     joyful  It was just some stuff for a new job. Do you f...\n",
       "799    jealous  I've come to hate them too unfortunately. Cons...\n",
       "\n",
       "[800 rows x 2 columns]"
      ]
     },
     "execution_count": 67,
     "metadata": {},
     "output_type": "execute_result"
    }
   ],
   "source": [
    "valid"
   ]
  },
  {
   "cell_type": "code",
   "execution_count": 68,
   "id": "22450d97",
   "metadata": {
    "execution": {
     "iopub.execute_input": "2022-11-07T20:18:43.163898Z",
     "iopub.status.busy": "2022-11-07T20:18:43.161297Z",
     "iopub.status.idle": "2022-11-07T20:18:43.767385Z",
     "shell.execute_reply": "2022-11-07T20:18:43.766237Z",
     "shell.execute_reply.started": "2022-11-07T20:18:43.163860Z"
    }
   },
   "outputs": [],
   "source": [
    "# tokenize all the dataset\n",
    "tokenized_train = tokenizer(train[\"text\"].values.tolist(), padding = True, truncation = True, return_tensors=\"pt\", max_length=50)\n",
    "tokenized_test = tokenizer(test[\"text\"].values.tolist() , padding = True, truncation = True,  return_tensors=\"pt\", max_length=50)\n",
    "tokenized_val = tokenizer(valid[\"text\"].values.tolist() , padding = True, truncation = True,  return_tensors=\"pt\", max_length=50)"
   ]
  },
  {
   "cell_type": "code",
   "execution_count": 69,
   "id": "46f2b413",
   "metadata": {
    "execution": {
     "iopub.execute_input": "2022-11-07T20:18:43.769854Z",
     "iopub.status.busy": "2022-11-07T20:18:43.769476Z",
     "iopub.status.idle": "2022-11-07T20:18:43.774324Z",
     "shell.execute_reply": "2022-11-07T20:18:43.773338Z",
     "shell.execute_reply.started": "2022-11-07T20:18:43.769818Z"
    }
   },
   "outputs": [],
   "source": [
    "# train['text'].apply(len).sort_values(ascending=False)"
   ]
  },
  {
   "cell_type": "code",
   "execution_count": 70,
   "id": "03fb6a4a",
   "metadata": {
    "execution": {
     "iopub.execute_input": "2022-11-07T20:18:43.776484Z",
     "iopub.status.busy": "2022-11-07T20:18:43.775875Z",
     "iopub.status.idle": "2022-11-07T20:18:43.784354Z",
     "shell.execute_reply": "2022-11-07T20:18:43.783764Z",
     "shell.execute_reply.started": "2022-11-07T20:18:43.776449Z"
    }
   },
   "outputs": [],
   "source": [
    "# del tokenized_test, tokenized_val"
   ]
  },
  {
   "cell_type": "code",
   "execution_count": 71,
   "id": "872f3c3a",
   "metadata": {
    "execution": {
     "iopub.execute_input": "2022-11-07T20:18:43.787941Z",
     "iopub.status.busy": "2022-11-07T20:18:43.787431Z",
     "iopub.status.idle": "2022-11-07T20:18:43.797678Z",
     "shell.execute_reply": "2022-11-07T20:18:43.796874Z",
     "shell.execute_reply.started": "2022-11-07T20:18:43.787905Z"
    }
   },
   "outputs": [
    {
     "data": {
      "text/plain": [
       "tensor([ 101, 1045, 2572, 2469, 2017, 2024,  102,    0,    0,    0,    0,    0,\n",
       "           0,    0,    0,    0,    0,    0,    0,    0,    0,    0,    0,    0,\n",
       "           0,    0,    0,    0,    0,    0,    0,    0,    0,    0,    0,    0,\n",
       "           0,    0,    0,    0,    0,    0,    0,    0,    0,    0,    0,    0,\n",
       "           0,    0])"
      ]
     },
     "execution_count": 71,
     "metadata": {},
     "output_type": "execute_result"
    }
   ],
   "source": [
    "tokenized_train['input_ids'][1095]"
   ]
  },
  {
   "cell_type": "code",
   "execution_count": 72,
   "id": "9d8aea48",
   "metadata": {
    "execution": {
     "iopub.execute_input": "2022-11-07T20:18:43.799894Z",
     "iopub.status.busy": "2022-11-07T20:18:43.799008Z",
     "iopub.status.idle": "2022-11-07T20:18:43.807384Z",
     "shell.execute_reply": "2022-11-07T20:18:43.806512Z",
     "shell.execute_reply.started": "2022-11-07T20:18:43.799857Z"
    }
   },
   "outputs": [
    {
     "name": "stdout",
     "output_type": "stream",
     "text": [
      "dict_keys(['input_ids', 'attention_mask'])\n"
     ]
    }
   ],
   "source": [
    "# check keys\n",
    "print(tokenized_train.keys())"
   ]
  },
  {
   "cell_type": "code",
   "execution_count": 73,
   "id": "608fec9c",
   "metadata": {
    "execution": {
     "iopub.execute_input": "2022-11-07T20:18:43.809824Z",
     "iopub.status.busy": "2022-11-07T20:18:43.808725Z",
     "iopub.status.idle": "2022-11-07T20:18:43.852309Z",
     "shell.execute_reply": "2022-11-07T20:18:43.851419Z",
     "shell.execute_reply.started": "2022-11-07T20:18:43.809788Z"
    }
   },
   "outputs": [],
   "source": [
    "#move the values to gpu for faster training\n",
    "tokenized_train = {k:torch.tensor(v).to(device) for k,v in tokenized_train.items()}\n",
    "tokenized_test = {k:torch.tensor(v).to(device) for k,v in tokenized_test.items()}\n",
    "tokenized_val = {k:torch.tensor(v).to(device) for k,v in tokenized_val.items()}"
   ]
  },
  {
   "cell_type": "code",
   "execution_count": 74,
   "id": "f481b47d",
   "metadata": {
    "execution": {
     "iopub.execute_input": "2022-11-07T20:18:43.854313Z",
     "iopub.status.busy": "2022-11-07T20:18:43.853719Z",
     "iopub.status.idle": "2022-11-07T20:18:44.042233Z",
     "shell.execute_reply": "2022-11-07T20:18:44.041222Z",
     "shell.execute_reply.started": "2022-11-07T20:18:43.854277Z"
    }
   },
   "outputs": [
    {
     "data": {
      "text/plain": [
       "246"
      ]
     },
     "execution_count": 74,
     "metadata": {},
     "output_type": "execute_result"
    }
   ],
   "source": [
    "torch.cuda.empty_cache()\n",
    "import gc\n",
    "# del w2v_model\n",
    "# del X_test_vect, Xtest_stop, Xtrain_tfidf,\n",
    "# del  X_test_vect_avg, X_val_vect_avg, X_train_vect_avg,X_val_vect, X_train_vect\n",
    "gc.collect()"
   ]
  },
  {
   "cell_type": "code",
   "execution_count": 75,
   "id": "87ed68a8",
   "metadata": {
    "execution": {
     "iopub.execute_input": "2022-11-07T20:18:44.044810Z",
     "iopub.status.busy": "2022-11-07T20:18:44.043746Z",
     "iopub.status.idle": "2022-11-07T20:18:44.057550Z",
     "shell.execute_reply": "2022-11-07T20:18:44.056549Z",
     "shell.execute_reply.started": "2022-11-07T20:18:44.044769Z"
    }
   },
   "outputs": [
    {
     "name": "stdout",
     "output_type": "stream",
     "text": [
      "|===========================================================================|\n",
      "|                  PyTorch CUDA memory summary, device ID 0                 |\n",
      "|---------------------------------------------------------------------------|\n",
      "|            CUDA OOMs: 0            |        cudaMalloc retries: 0         |\n",
      "|===========================================================================|\n",
      "|        Metric         | Cur Usage  | Peak Usage | Tot Alloc  | Tot Freed  |\n",
      "|---------------------------------------------------------------------------|\n",
      "| Allocated memory      |  265843 KB |  265843 KB |  265843 KB |       0 B  |\n",
      "|       from large pool |  264192 KB |  264192 KB |  264192 KB |       0 B  |\n",
      "|       from small pool |    1651 KB |    1651 KB |    1651 KB |       0 B  |\n",
      "|---------------------------------------------------------------------------|\n",
      "| Active memory         |  265843 KB |  265843 KB |  265843 KB |       0 B  |\n",
      "|       from large pool |  264192 KB |  264192 KB |  264192 KB |       0 B  |\n",
      "|       from small pool |    1651 KB |    1651 KB |    1651 KB |       0 B  |\n",
      "|---------------------------------------------------------------------------|\n",
      "| GPU reserved memory   |  278528 KB |  278528 KB |  278528 KB |       0 B  |\n",
      "|       from large pool |  276480 KB |  276480 KB |  276480 KB |       0 B  |\n",
      "|       from small pool |    2048 KB |    2048 KB |    2048 KB |       0 B  |\n",
      "|---------------------------------------------------------------------------|\n",
      "| Non-releasable memory |   12685 KB |   30298 KB |  124925 KB |  112240 KB |\n",
      "|       from large pool |   12288 KB |   28416 KB |  122880 KB |  110592 KB |\n",
      "|       from small pool |     397 KB |    2045 KB |    2045 KB |    1648 KB |\n",
      "|---------------------------------------------------------------------------|\n",
      "| Allocations           |     107    |     107    |     107    |       0    |\n",
      "|       from large pool |      40    |      40    |      40    |       0    |\n",
      "|       from small pool |      67    |      67    |      67    |       0    |\n",
      "|---------------------------------------------------------------------------|\n",
      "| Active allocs         |     107    |     107    |     107    |       0    |\n",
      "|       from large pool |      40    |      40    |      40    |       0    |\n",
      "|       from small pool |      67    |      67    |      67    |       0    |\n",
      "|---------------------------------------------------------------------------|\n",
      "| GPU reserved segments |      11    |      11    |      11    |       0    |\n",
      "|       from large pool |      10    |      10    |      10    |       0    |\n",
      "|       from small pool |       1    |       1    |       1    |       0    |\n",
      "|---------------------------------------------------------------------------|\n",
      "| Non-releasable allocs |       7    |       9    |      10    |       3    |\n",
      "|       from large pool |       6    |       8    |       9    |       3    |\n",
      "|       from small pool |       1    |       1    |       1    |       0    |\n",
      "|---------------------------------------------------------------------------|\n",
      "| Oversize allocations  |       0    |       0    |       0    |       0    |\n",
      "|---------------------------------------------------------------------------|\n",
      "| Oversize GPU segments |       0    |       0    |       0    |       0    |\n",
      "|===========================================================================|\n",
      "\n"
     ]
    }
   ],
   "source": [
    "print(torch.cuda.memory_summary(device=None, abbreviated=False))"
   ]
  },
  {
   "cell_type": "code",
   "execution_count": 76,
   "id": "f3ad8bd4",
   "metadata": {
    "execution": {
     "iopub.execute_input": "2022-11-07T20:18:44.060627Z",
     "iopub.status.busy": "2022-11-07T20:18:44.060315Z",
     "iopub.status.idle": "2022-11-07T20:18:44.318077Z",
     "shell.execute_reply": "2022-11-07T20:18:44.317046Z",
     "shell.execute_reply.started": "2022-11-07T20:18:44.060599Z"
    }
   },
   "outputs": [
    {
     "name": "stdout",
     "output_type": "stream",
     "text": [
      "Done Training getting the features..\n"
     ]
    }
   ],
   "source": [
    "# get the features from the model\n",
    "with torch.no_grad():\n",
    "    #dimension will be  [batch_size(nr_sentences), tokens, emb_dim]\n",
    "    hidden_train = model(**tokenized_train)\n",
    "    hidden_test = model(**tokenized_test)\n",
    "    hidden_val = model(**tokenized_val)\n",
    "    print(\"Done Training getting the features..\")\n"
   ]
  },
  {
   "cell_type": "code",
   "execution_count": 77,
   "id": "44b0e002",
   "metadata": {
    "execution": {
     "iopub.execute_input": "2022-11-07T20:18:44.320354Z",
     "iopub.status.busy": "2022-11-07T20:18:44.319707Z",
     "iopub.status.idle": "2022-11-07T20:18:44.326444Z",
     "shell.execute_reply": "2022-11-07T20:18:44.325553Z",
     "shell.execute_reply.started": "2022-11-07T20:18:44.320314Z"
    }
   },
   "outputs": [],
   "source": [
    "# get the features extracted\n",
    "\n",
    "#get only the [CLS] hidden states\n",
    "cls_train = hidden_train.last_hidden_state[:,0,:]\n",
    "cls_test = hidden_test.last_hidden_state[:,0,:]\n",
    "cls_val = hidden_val.last_hidden_state[:,0,:]"
   ]
  },
  {
   "cell_type": "code",
   "execution_count": 78,
   "id": "6975913d",
   "metadata": {
    "execution": {
     "iopub.execute_input": "2022-11-07T20:18:44.328725Z",
     "iopub.status.busy": "2022-11-07T20:18:44.328062Z",
     "iopub.status.idle": "2022-11-07T20:18:48.505409Z",
     "shell.execute_reply": "2022-11-07T20:18:48.504393Z",
     "shell.execute_reply.started": "2022-11-07T20:18:44.328688Z"
    }
   },
   "outputs": [
    {
     "data": {
      "text/plain": [
       "tensor([[ 0.1987,  0.2273,  0.0128,  ...,  0.0953,  0.5151,  0.3996],\n",
       "        [ 0.0433,  0.0151, -0.0713,  ..., -0.1160,  0.3578,  0.1802],\n",
       "        [-0.0280, -0.0688, -0.1634,  ..., -0.0595,  0.2458,  0.3044],\n",
       "        ...,\n",
       "        [ 0.0432, -0.0604, -0.1613,  ...,  0.0307,  0.4360,  0.1981],\n",
       "        [ 0.0914,  0.0067,  0.0041,  ..., -0.0701,  0.2584,  0.2643],\n",
       "        [ 0.2176,  0.1288, -0.0632,  ...,  0.0400,  0.3324,  0.2181]],\n",
       "       device='cuda:0')"
      ]
     },
     "execution_count": 78,
     "metadata": {},
     "output_type": "execute_result"
    }
   ],
   "source": [
    "# check sample CLS\n",
    "\n",
    "cls_val"
   ]
  },
  {
   "cell_type": "code",
   "execution_count": 79,
   "id": "ee8b76db",
   "metadata": {
    "execution": {
     "iopub.execute_input": "2022-11-07T20:18:48.507409Z",
     "iopub.status.busy": "2022-11-07T20:18:48.507016Z",
     "iopub.status.idle": "2022-11-07T20:18:48.514008Z",
     "shell.execute_reply": "2022-11-07T20:18:48.512941Z",
     "shell.execute_reply.started": "2022-11-07T20:18:48.507369Z"
    }
   },
   "outputs": [
    {
     "data": {
      "text/plain": [
       "torch.Size([800, 768])"
      ]
     },
     "execution_count": 79,
     "metadata": {},
     "output_type": "execute_result"
    }
   ],
   "source": [
    "# shape\n",
    "cls_val.shape"
   ]
  },
  {
   "cell_type": "code",
   "execution_count": 80,
   "id": "d416c269",
   "metadata": {
    "execution": {
     "iopub.execute_input": "2022-11-07T20:18:48.516338Z",
     "iopub.status.busy": "2022-11-07T20:18:48.515979Z",
     "iopub.status.idle": "2022-11-07T20:18:48.524981Z",
     "shell.execute_reply": "2022-11-07T20:18:48.524045Z",
     "shell.execute_reply.started": "2022-11-07T20:18:48.516303Z"
    }
   },
   "outputs": [],
   "source": [
    "#Initializing the MLPClassifier\n",
    "mlp_clf = MLPClassifier(\n",
    "    hidden_layer_sizes=(200,10), \n",
    "    max_iter=300,\n",
    "    activation = 'relu',\n",
    "    solver='adam',\n",
    "    random_state=0)"
   ]
  },
  {
   "cell_type": "code",
   "execution_count": 81,
   "id": "301c8876",
   "metadata": {
    "execution": {
     "iopub.execute_input": "2022-11-07T20:18:48.526651Z",
     "iopub.status.busy": "2022-11-07T20:18:48.526384Z",
     "iopub.status.idle": "2022-11-07T20:19:32.078085Z",
     "shell.execute_reply": "2022-11-07T20:19:32.077000Z",
     "shell.execute_reply.started": "2022-11-07T20:18:48.526626Z"
    }
   },
   "outputs": [
    {
     "data": {
      "text/plain": [
       "MLPClassifier(hidden_layer_sizes=(200, 10), max_iter=300, random_state=0)"
      ]
     },
     "execution_count": 81,
     "metadata": {},
     "output_type": "execute_result"
    }
   ],
   "source": [
    "# train the model\n",
    "mlp_clf.fit(cls_train.to(\"cpu\"), lbl_enc.transform(train['label']))"
   ]
  },
  {
   "cell_type": "code",
   "execution_count": 82,
   "id": "311d40b7",
   "metadata": {
    "execution": {
     "iopub.execute_input": "2022-11-07T20:19:32.080662Z",
     "iopub.status.busy": "2022-11-07T20:19:32.079959Z",
     "iopub.status.idle": "2022-11-07T20:19:32.102273Z",
     "shell.execute_reply": "2022-11-07T20:19:32.101194Z",
     "shell.execute_reply.started": "2022-11-07T20:19:32.080624Z"
    }
   },
   "outputs": [
    {
     "data": {
      "text/plain": [
       "0.605"
      ]
     },
     "execution_count": 82,
     "metadata": {},
     "output_type": "execute_result"
    }
   ],
   "source": [
    "# get score on test data\n",
    "mlp_clf.score(cls_test.to(\"cpu\"), lbl_enc.transform(test['label']))"
   ]
  },
  {
   "cell_type": "code",
   "execution_count": 83,
   "id": "681e0dd7",
   "metadata": {
    "execution": {
     "iopub.execute_input": "2022-11-07T20:19:32.104639Z",
     "iopub.status.busy": "2022-11-07T20:19:32.103971Z",
     "iopub.status.idle": "2022-11-07T20:19:32.469344Z",
     "shell.execute_reply": "2022-11-07T20:19:32.468422Z",
     "shell.execute_reply.started": "2022-11-07T20:19:32.104602Z"
    }
   },
   "outputs": [
    {
     "name": "stdout",
     "output_type": "stream",
     "text": [
      "\t\t********** MLP with Bert Features Test  Evaluation STATS **********\n",
      "\n",
      "Accuracy :   60.5%\n",
      "F1 Score :   60.24614807085745%\n",
      "Recall Score :   60.5%\n",
      "Precision Score :   60.650467636088266%\n",
      "\n",
      "\tClasssification Report\n",
      "              precision    recall  f1-score   support\n",
      "\n",
      "           0       0.62      0.48      0.54       244\n",
      "           1       0.60      0.59      0.60       268\n",
      "           2       0.57      0.65      0.61       275\n",
      "           3       0.64      0.70      0.67       213\n",
      "\n",
      "    accuracy                           0.60      1000\n",
      "   macro avg       0.61      0.61      0.60      1000\n",
      "weighted avg       0.61      0.60      0.60      1000\n",
      "\n"
     ]
    },
    {
     "data": {
      "image/png": "[encoded data removed]",
      "text/plain": [
       "<Figure size 576x576 with 2 Axes>"
      ]
     },
     "metadata": {
      "needs_background": "light"
     },
     "output_type": "display_data"
    }
   ],
   "source": [
    "# score for evaluation data\n",
    "get_evaluations(mlp_clf, cls_test.to(\"cpu\") , lbl_enc.transform(test['label']), \"MLP with Bert Features Test\")"
   ]
  },
  {
   "cell_type": "code",
   "execution_count": 84,
   "id": "4774caf4",
   "metadata": {
    "execution": {
     "iopub.execute_input": "2022-11-07T20:19:32.471263Z",
     "iopub.status.busy": "2022-11-07T20:19:32.470913Z",
     "iopub.status.idle": "2022-11-07T20:19:32.822306Z",
     "shell.execute_reply": "2022-11-07T20:19:32.821368Z",
     "shell.execute_reply.started": "2022-11-07T20:19:32.471226Z"
    }
   },
   "outputs": [
    {
     "name": "stdout",
     "output_type": "stream",
     "text": [
      "\t\t********** MLP with Bert Features Valid  Evaluation STATS **********\n",
      "\n",
      "Accuracy :   57.62500000000001%\n",
      "F1 Score :   57.596723418469196%\n",
      "Recall Score :   57.62500000000001%\n",
      "Precision Score :   57.71637654154059%\n",
      "\n",
      "\tClasssification Report\n",
      "              precision    recall  f1-score   support\n",
      "\n",
      "           0       0.58      0.51      0.54       205\n",
      "           1       0.57      0.58      0.58       187\n",
      "           2       0.51      0.55      0.53       222\n",
      "           3       0.66      0.67      0.66       186\n",
      "\n",
      "    accuracy                           0.58       800\n",
      "   macro avg       0.58      0.58      0.58       800\n",
      "weighted avg       0.58      0.58      0.58       800\n",
      "\n"
     ]
    },
    {
     "data": {
      "image/png": "[encoded data removed]",
      "text/plain": [
       "<Figure size 576x576 with 2 Axes>"
      ]
     },
     "metadata": {
      "needs_background": "light"
     },
     "output_type": "display_data"
    }
   ],
   "source": [
    "# score for evaluation data\n",
    "get_evaluations(mlp_clf, cls_val.to(\"cpu\") , lbl_enc.transform(valid['label']), \"MLP with Bert Features Valid\")"
   ]
  },
  {
   "cell_type": "code",
   "execution_count": null,
   "id": "0f61cce3",
   "metadata": {},
   "outputs": [],
   "source": []
  },
  {
   "cell_type": "markdown",
   "id": "462a2340",
   "metadata": {},
   "source": [
    "### Explain how you use the BERT output. Specifically, which token(s) output you use?\n",
    "\n",
    "- Bert is trained using Masked Language Model (MLM) and Next Sentence Prediction task (NSP).\n",
    "- It recieves input as embedding i.e attention masks and sentences input ids.\n",
    "- In each word, the first token is a special token called CLS and sentences are separed by also a special token called SEP\n",
    "- The model's output are embedding for the hidden state. These output are the one to be feeded to layer that can be used for classification.\n",
    "- In our task, we were only interested on these output (Hidden State) which are associated with initial token CLS since it captures the meaning of the entire senteses more than other hence these hidden state can be used for classification with other models as input."
   ]
  },
  {
   "cell_type": "code",
   "execution_count": null,
   "id": "9a295d98",
   "metadata": {},
   "outputs": [],
   "source": []
  }
 ],
 "metadata": {
  "kernelspec": {
   "display_name": "Python 3.10.5 64-bit",
   "language": "python",
   "name": "python3"
  },
  "language_info": {
   "codemirror_mode": {
    "name": "ipython",
    "version": 3
   },
   "file_extension": ".py",
   "mimetype": "text/x-python",
   "name": "python",
   "nbconvert_exporter": "python",
   "pygments_lexer": "ipython3",
   "version": "3.10.5"
  },
  "vscode": {
   "interpreter": {
    "hash": "369f2c481f4da34e4445cda3fffd2e751bd1c4d706f27375911949ba6bb62e1c"
   }
  },
  "widgets": {
   "application/vnd.jupyter.widget-state+json": {
    "state": {},
    "version_major": 2,
    "version_minor": 0
   }
  }
 },
 "nbformat": 4,
 "nbformat_minor": 5
}
